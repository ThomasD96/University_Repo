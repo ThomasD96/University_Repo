{
 "cells": [
  {
   "cell_type": "markdown",
   "metadata": {},
   "source": [
    "# Introduction to python structures and plots"
   ]
  },
  {
   "cell_type": "code",
   "execution_count": 3,
   "metadata": {},
   "outputs": [],
   "source": [
    "import numpy as np\n",
    "import pandas as pd\n",
    "import matplotlib.pyplot as plt"
   ]
  },
  {
   "cell_type": "markdown",
   "metadata": {},
   "source": [
    "## Python structures and datatypes\n",
    "- booleans\n",
    "- numbers (ints or floats)\n",
    "- Strings\n",
    "- Lists\n",
    "- Dictionaries\n",
    "- tuples (we do not need them here)\n",
    "- numpy arrays\n",
    "- pandas dataframes"
   ]
  },
  {
   "cell_type": "code",
   "execution_count": 14,
   "metadata": {},
   "outputs": [
    {
     "name": "stdout",
     "output_type": "stream",
     "text": [
      "this_is_a_boolean: True\n",
      "this_is_not_a_boolean: False\n"
     ]
    }
   ],
   "source": [
    "this_is_a_boolean = 1<2\n",
    "this_is_not_a_boolean = 2<0\n",
    "# booleans are simple 0/1.\n",
    "# they represent the output of conditions\n",
    "print(\"this_is_a_boolean:\", this_is_a_boolean)\n",
    "print(\"this_is_not_a_boolean:\", this_is_not_a_boolean)"
   ]
  },
  {
   "cell_type": "code",
   "execution_count": 34,
   "metadata": {},
   "outputs": [
    {
     "name": "stdout",
     "output_type": "stream",
     "text": [
      "this_is_an_integer:  1\n",
      "this_is_a_float:  1.0\n",
      "this is the ratio of two integers: 4/5  0.8\n",
      "I copied this_is_a_float and changed the new variable:  1.0\n"
     ]
    }
   ],
   "source": [
    "this_is_an_integer = 1\n",
    "this_is_a_float = 1.0\n",
    "# integers can be used to refer to elements in a list or array. Floats cannot\n",
    "# but besides that, you can use floats to represent all the numbers in python\n",
    "print(\"this_is_an_integer: \",this_is_an_integer )\n",
    "print(\"this_is_a_float: \",this_is_a_float)\n",
    "print(\"this is the ratio of two integers: 4/5 \", 4/5)\n",
    "this_is_a_copy_of_float = this_is_a_float\n",
    "this_is_a_copy_of_float = 333.\n",
    "print(\"I copied this_is_a_float and changed the new variable: \", this_is_a_float)\n",
    "# when I copy numbers, I am creating a new variable and coping data"
   ]
  },
  {
   "cell_type": "code",
   "execution_count": 40,
   "metadata": {},
   "outputs": [
    {
     "name": "stdout",
     "output_type": "stream",
     "text": [
      "this_is_a_string: this_is_a_string\n",
      "this_is_also_a_string: this_is_also_a_string\n",
      "this_is_string_representing_a_string: 'this_is'_whatever\n",
      "this is the first character in the string: this_is_a_string[0] t\n",
      "this is the third character in the string: this_is_a_string[3] i\n"
     ]
    }
   ],
   "source": [
    "this_is_a_string = \"this_is_a_string\"\n",
    "this_is_also_a_string = 'this_is_also_a_string'\n",
    "this_is_string_representing_a_string = \"'this_is'_whatever\"\n",
    "# we represent strings with double quotes or single quotes. We can use single quotes inside double quotes\n",
    "print(\"this_is_a_string:\", this_is_a_string)\n",
    "print(\"this_is_also_a_string:\", this_is_also_a_string)\n",
    "print(\"this_is_string_representing_a_string:\", this_is_string_representing_a_string)\n",
    "# we can access the character i in the string\n",
    "print(\"this is the first character in the string: this_is_a_string[0]\", this_is_a_string[0])\n",
    "print(\"this is the third character in the string: this_is_a_string[3]\", this_is_a_string[2])"
   ]
  },
  {
   "cell_type": "code",
   "execution_count": 31,
   "metadata": {},
   "outputs": [
    {
     "name": "stdout",
     "output_type": "stream",
     "text": [
      "this is a list: [1, '3', [2, 3]]\n",
      "this is the start of the list this_is_a_list[0]: 1\n",
      "this is the end of the list this_is_a_list[-1]: [2, 3]\n",
      "this is the element 1 in the list this_is_a_list[1]: 3\n",
      "this is the new value of this_is_a_list[1]: [2, 3]\n",
      "this is the previous value of this_is_a_list[1]: [2, 3]\n",
      "this is the new value of this_is_truly_another_list[1]: 42\n"
     ]
    }
   ],
   "source": [
    "this_is_a_list = [1,\"3\", [2,3]]\n",
    "# lists store information in a sequential - but non contiguous - way\n",
    "# each element can be whatever - integers, floats, strings, other lists, numpy arrays...\n",
    "# it is optimized for insertion of new elements at end and beginning and to iterate over the complete list in a sequential way\n",
    "# it is not efficient if you want to access element i in the list -- it will have to transverse the whole list\n",
    "print(\"this is a list:\",this_is_a_list)\n",
    "print(\"this is the start of the list this_is_a_list[0]:\",this_is_a_list[0])\n",
    "print(\"this is the end of the list this_is_a_list[-1]:\",this_is_a_list[-1])\n",
    "print(\"this is the element 1 in the list this_is_a_list[1]:\",this_is_a_list[1])\n",
    "this_is_another_list = this_is_a_list\n",
    "this_is_another_list[1]=[2,3]\n",
    "print(\"this is the new value of this_is_a_list[1]:\",this_is_a_list[1])\n",
    "# when you copy a list, you are not copying the data! - if you want to change structures, use copy\n",
    "this_is_truly_another_list = this_is_a_list.copy()\n",
    "this_is_truly_another_list[1]=42\n",
    "print(\"this is the previous value of this_is_a_list[1]:\",this_is_a_list[1])\n",
    "print(\"this is the new value of this_is_truly_another_list[1]:\",this_is_truly_another_list[1])"
   ]
  },
  {
   "cell_type": "code",
   "execution_count": 16,
   "metadata": {},
   "outputs": [
    {
     "name": "stdout",
     "output_type": "stream",
     "text": [
      "this is the list of cakes in the dictionary: this_is_a_dictionary['cakes']: ['ginger', 'chocolate', 'yogurt']\n",
      "this is the element 24 in the dictionary: this_is_a_dictionary[24]: {'another_dictionary_key': 'another_dictionary_value'}\n"
     ]
    }
   ],
   "source": [
    "this_is_a_dictionary = {\"cakes\":[\"ginger\", \"chocolate\", \"yogurt\"], \"soups\": \"carrot\", 24: {\"another_dictionary_key\": \"another_dictionary_value\"}}\n",
    "# dictionaries are compilations of (key, value) pairs\n",
    "# keys can be whatever, values can be whatever. \n",
    "# they allow us to access an element in a structure not by using its position in the structure but by using a key value of our choice\n",
    "print(\"this is the list of cakes in the dictionary: this_is_a_dictionary['cakes']:\", this_is_a_dictionary['cakes'] )\n",
    "print(\"this is the element 24 in the dictionary: this_is_a_dictionary[24]:\", this_is_a_dictionary[24] )"
   ]
  },
  {
   "cell_type": "code",
   "execution_count": 54,
   "metadata": {},
   "outputs": [
    {
     "name": "stdout",
     "output_type": "stream",
     "text": [
      "this_is_an_array: [ 0  1  2 10]\n",
      "this_is_another_array: [22 31 27  0]\n",
      "this is the sum of this_is_an_array with this_is_another_array\n",
      "this_is_an_array + this_is_another_array: [22 32 29 10]\n",
      "this_is_an_array_of_arrays:\n",
      "[[ 0  1  2 10]\n",
      " [22 31 27  0]\n",
      " [22 31 27  0]]\n",
      "again, this_is_another_array changed [290  31  27   0]\n"
     ]
    }
   ],
   "source": [
    "this_is_an_array = np.array([0,1,2,10])\n",
    "# arrays are sequential and contiguous: all elements in an array must be the same and we can access the data directly: no need to transverse the whole list\n",
    "this_is_another_array = np.array([22,31,27,0])\n",
    "# we can add two arrays of the same size:\n",
    "print(\"this_is_an_array:\", this_is_an_array)\n",
    "print(\"this_is_another_array:\", this_is_another_array)\n",
    "print(\"this is the sum of this_is_an_array with this_is_another_array\")\n",
    "print(\"this_is_an_array + this_is_another_array:\", this_is_an_array + this_is_another_array)\n",
    "this_is_an_array_of_arrays = np.array([this_is_an_array,this_is_another_array,this_is_another_array])\n",
    "\n",
    "# if arrays have the same size, we can compile them in a 2d array:\n",
    "print(\"this_is_an_array_of_arrays:\")\n",
    "print(this_is_an_array_of_arrays)\n",
    "# as with the lists, when I copy an array, I must be careful not to mess up with the original\n",
    "this_is_a_copy_of_another_array = this_is_another_array\n",
    "this_is_a_copy_of_another_array[0] = 290\n",
    "print(\"again, this_is_another_array changed\",this_is_another_array)"
   ]
  },
  {
   "cell_type": "markdown",
   "metadata": {},
   "source": [
    "## pandas \n",
    "- pandas dataframes are almost like a dictionary, where all values are lists with the same size and data type"
   ]
  },
  {
   "cell_type": "code",
   "execution_count": 64,
   "metadata": {},
   "outputs": [
    {
     "data": {
      "text/html": [
       "<div>\n",
       "<style scoped>\n",
       "    .dataframe tbody tr th:only-of-type {\n",
       "        vertical-align: middle;\n",
       "    }\n",
       "\n",
       "    .dataframe tbody tr th {\n",
       "        vertical-align: top;\n",
       "    }\n",
       "\n",
       "    .dataframe thead th {\n",
       "        text-align: right;\n",
       "    }\n",
       "</style>\n",
       "<table border=\"1\" class=\"dataframe\">\n",
       "  <thead>\n",
       "    <tr style=\"text-align: right;\">\n",
       "      <th></th>\n",
       "      <th>num_1</th>\n",
       "      <th>cat_1</th>\n",
       "      <th>cat_2</th>\n",
       "    </tr>\n",
       "  </thead>\n",
       "  <tbody>\n",
       "    <tr>\n",
       "      <th>0</th>\n",
       "      <td>0</td>\n",
       "      <td>val_1</td>\n",
       "      <td>oth_1</td>\n",
       "    </tr>\n",
       "    <tr>\n",
       "      <th>1</th>\n",
       "      <td>1</td>\n",
       "      <td>val_1</td>\n",
       "      <td>oth_2</td>\n",
       "    </tr>\n",
       "    <tr>\n",
       "      <th>2</th>\n",
       "      <td>2</td>\n",
       "      <td>val_2</td>\n",
       "      <td>oth_3</td>\n",
       "    </tr>\n",
       "    <tr>\n",
       "      <th>3</th>\n",
       "      <td>3</td>\n",
       "      <td>val_2</td>\n",
       "      <td>oth_3</td>\n",
       "    </tr>\n",
       "  </tbody>\n",
       "</table>\n",
       "</div>"
      ],
      "text/plain": [
       "   num_1  cat_1  cat_2\n",
       "0      0  val_1  oth_1\n",
       "1      1  val_1  oth_2\n",
       "2      2  val_2  oth_3\n",
       "3      3  val_2  oth_3"
      ]
     },
     "execution_count": 64,
     "metadata": {},
     "output_type": "execute_result"
    }
   ],
   "source": [
    "this_is_a_dataframe = pd.DataFrame({\"num_1\":[0,1,2,3],\n",
    "                                    \"cat_1\":[\"val_1\",\"val_1\",\"val_2\",\"val_2\"], \n",
    "                                    \"cat_2\":[\"oth_1\",\"oth_2\",\"oth_3\",\"oth_3\"]})\n",
    "this_is_a_dataframe"
   ]
  },
  {
   "cell_type": "markdown",
   "metadata": {},
   "source": [
    "- keys are the column names\n",
    "- values are the data in each column - each column must have the same data type!"
   ]
  },
  {
   "cell_type": "code",
   "execution_count": 66,
   "metadata": {},
   "outputs": [
    {
     "data": {
      "text/plain": [
       "num_1     int64\n",
       "cat_1    object\n",
       "cat_2    object\n",
       "dtype: object"
      ]
     },
     "execution_count": 66,
     "metadata": {},
     "output_type": "execute_result"
    }
   ],
   "source": [
    "this_is_a_dataframe.dtypes"
   ]
  },
  {
   "cell_type": "code",
   "execution_count": 67,
   "metadata": {},
   "outputs": [],
   "source": [
    "# \"object\" datatypes correspond to strings and represent categorical data"
   ]
  },
  {
   "cell_type": "markdown",
   "metadata": {},
   "source": [
    "### Dataframes are useful to:\n",
    "- **easily compute statistical info over a numerical column**"
   ]
  },
  {
   "cell_type": "code",
   "execution_count": 71,
   "metadata": {},
   "outputs": [
    {
     "name": "stdout",
     "output_type": "stream",
     "text": [
      "computing a mean of num_1 this_is_a_dataframe['num_1'].mean(): 1.5\n"
     ]
    }
   ],
   "source": [
    "print(\"computing a mean of num_1 this_is_a_dataframe['num_1'].mean():\",this_is_a_dataframe['num_1'].mean())"
   ]
  },
  {
   "cell_type": "code",
   "execution_count": 74,
   "metadata": {},
   "outputs": [
    {
     "name": "stdout",
     "output_type": "stream",
     "text": [
      "computing the median of num_1 this_is_a_dataframe['num_1'].median(): 1.5\n"
     ]
    }
   ],
   "source": [
    "print(\"computing the median of num_1 this_is_a_dataframe['num_1'].median():\",this_is_a_dataframe['num_1'].median())"
   ]
  },
  {
   "cell_type": "markdown",
   "metadata": {},
   "source": [
    "## Dataframes are useful to:\n",
    "- easily compute statistical info over a numerical column\n",
    "- **easily compute statistical info over a numerical column BUT ONLY when some condition on other columns is true**"
   ]
  },
  {
   "cell_type": "code",
   "execution_count": 77,
   "metadata": {},
   "outputs": [
    {
     "name": "stdout",
     "output_type": "stream",
     "text": [
      "computing the max of num_1 when cat_1 is val_1\n",
      "this_is_a_dataframe[this_is_a_dataframe['cat_1']=='val_1']['num_1'].max(): 1\n"
     ]
    }
   ],
   "source": [
    "print(\"computing the max of num_1 when cat_1 is val_1\")\n",
    "print(\"this_is_a_dataframe[this_is_a_dataframe['cat_1']=='val_1']['num_1'].max():\",this_is_a_dataframe[this_is_a_dataframe['cat_1']=='val_1']['num_1'].max())"
   ]
  },
  {
   "cell_type": "code",
   "execution_count": 105,
   "metadata": {},
   "outputs": [
    {
     "data": {
      "text/html": [
       "<div>\n",
       "<style scoped>\n",
       "    .dataframe tbody tr th:only-of-type {\n",
       "        vertical-align: middle;\n",
       "    }\n",
       "\n",
       "    .dataframe tbody tr th {\n",
       "        vertical-align: top;\n",
       "    }\n",
       "\n",
       "    .dataframe thead th {\n",
       "        text-align: right;\n",
       "    }\n",
       "</style>\n",
       "<table border=\"1\" class=\"dataframe\">\n",
       "  <thead>\n",
       "    <tr style=\"text-align: right;\">\n",
       "      <th></th>\n",
       "      <th>num_1</th>\n",
       "    </tr>\n",
       "    <tr>\n",
       "      <th>cat_1</th>\n",
       "      <th></th>\n",
       "    </tr>\n",
       "  </thead>\n",
       "  <tbody>\n",
       "    <tr>\n",
       "      <th>val_1</th>\n",
       "      <td>1</td>\n",
       "    </tr>\n",
       "    <tr>\n",
       "      <th>val_2</th>\n",
       "      <td>3</td>\n",
       "    </tr>\n",
       "  </tbody>\n",
       "</table>\n",
       "</div>"
      ],
      "text/plain": [
       "       num_1\n",
       "cat_1       \n",
       "val_1      1\n",
       "val_2      3"
      ]
     },
     "execution_count": 105,
     "metadata": {},
     "output_type": "execute_result"
    }
   ],
   "source": [
    "#or if we want to all possible values of cat_1, we can use a groupby\n",
    "after_groupby = this_is_a_dataframe[[\"cat_1\",\"num_1\"]].groupby(\"cat_1\").aggregate(\"max\")\n",
    "after_groupby"
   ]
  },
  {
   "cell_type": "code",
   "execution_count": 106,
   "metadata": {},
   "outputs": [
    {
     "data": {
      "text/plain": [
       "1"
      ]
     },
     "execution_count": 106,
     "metadata": {},
     "output_type": "execute_result"
    }
   ],
   "source": [
    "# after a group by, the category that we used to group becomes the new index\n",
    "after_groupby[\"num_1\"][\"val_1\"]"
   ]
  },
  {
   "cell_type": "code",
   "execution_count": 107,
   "metadata": {},
   "outputs": [
    {
     "data": {
      "text/html": [
       "<div>\n",
       "<style scoped>\n",
       "    .dataframe tbody tr th:only-of-type {\n",
       "        vertical-align: middle;\n",
       "    }\n",
       "\n",
       "    .dataframe tbody tr th {\n",
       "        vertical-align: top;\n",
       "    }\n",
       "\n",
       "    .dataframe thead th {\n",
       "        text-align: right;\n",
       "    }\n",
       "</style>\n",
       "<table border=\"1\" class=\"dataframe\">\n",
       "  <thead>\n",
       "    <tr style=\"text-align: right;\">\n",
       "      <th></th>\n",
       "      <th>cat_1</th>\n",
       "      <th>num_1</th>\n",
       "    </tr>\n",
       "  </thead>\n",
       "  <tbody>\n",
       "    <tr>\n",
       "      <th>0</th>\n",
       "      <td>val_1</td>\n",
       "      <td>1</td>\n",
       "    </tr>\n",
       "    <tr>\n",
       "      <th>1</th>\n",
       "      <td>val_2</td>\n",
       "      <td>3</td>\n",
       "    </tr>\n",
       "  </tbody>\n",
       "</table>\n",
       "</div>"
      ],
      "text/plain": [
       "   cat_1  num_1\n",
       "0  val_1      1\n",
       "1  val_2      3"
      ]
     },
     "execution_count": 107,
     "metadata": {},
     "output_type": "execute_result"
    }
   ],
   "source": [
    "# to have the original cat_1 column back, we must reset the index\n",
    "after_groupby.reset_index(inplace=True)\n",
    "after_groupby"
   ]
  },
  {
   "cell_type": "markdown",
   "metadata": {},
   "source": [
    "## Dataframes are useful to:\n",
    "- easily compute statistical info over a numerical column\n",
    "- easily compute statistical info over a numerical column BUT ONLY when some condition on other columns is true\n",
    "- **easily transform data and highlight into other shapes**"
   ]
  },
  {
   "cell_type": "code",
   "execution_count": 111,
   "metadata": {},
   "outputs": [
    {
     "data": {
      "text/html": [
       "<div>\n",
       "<style scoped>\n",
       "    .dataframe tbody tr th:only-of-type {\n",
       "        vertical-align: middle;\n",
       "    }\n",
       "\n",
       "    .dataframe tbody tr th {\n",
       "        vertical-align: top;\n",
       "    }\n",
       "\n",
       "    .dataframe thead th {\n",
       "        text-align: right;\n",
       "    }\n",
       "</style>\n",
       "<table border=\"1\" class=\"dataframe\">\n",
       "  <thead>\n",
       "    <tr style=\"text-align: right;\">\n",
       "      <th>cat_2</th>\n",
       "      <th>oth_1</th>\n",
       "      <th>oth_2</th>\n",
       "      <th>oth_3</th>\n",
       "    </tr>\n",
       "    <tr>\n",
       "      <th>cat_1</th>\n",
       "      <th></th>\n",
       "      <th></th>\n",
       "      <th></th>\n",
       "    </tr>\n",
       "  </thead>\n",
       "  <tbody>\n",
       "    <tr>\n",
       "      <th>val_1</th>\n",
       "      <td>0.0</td>\n",
       "      <td>1.0</td>\n",
       "      <td>NaN</td>\n",
       "    </tr>\n",
       "    <tr>\n",
       "      <th>val_2</th>\n",
       "      <td>NaN</td>\n",
       "      <td>NaN</td>\n",
       "      <td>5.0</td>\n",
       "    </tr>\n",
       "  </tbody>\n",
       "</table>\n",
       "</div>"
      ],
      "text/plain": [
       "cat_2  oth_1  oth_2  oth_3\n",
       "cat_1                     \n",
       "val_1    0.0    1.0    NaN\n",
       "val_2    NaN    NaN    5.0"
      ]
     },
     "execution_count": 111,
     "metadata": {},
     "output_type": "execute_result"
    }
   ],
   "source": [
    "df_values = this_is_a_dataframe.pivot_table(columns=\"cat_2\", index=\"cat_1\", values=\"num_1\", aggfunc=\"sum\")\n",
    "df_values"
   ]
  },
  {
   "cell_type": "markdown",
   "metadata": {},
   "source": [
    "## Dataframes are useful to:\n",
    "- easily compute statistical info over a numerical column\n",
    "- easily compute statistical info over a numerical column BUT ONLY when some condition on other columns is true\n",
    "- easily transform data and highlight into other shapes\n",
    "- **fill in missing values**"
   ]
  },
  {
   "cell_type": "code",
   "execution_count": 115,
   "metadata": {},
   "outputs": [
    {
     "data": {
      "text/html": [
       "<div>\n",
       "<style scoped>\n",
       "    .dataframe tbody tr th:only-of-type {\n",
       "        vertical-align: middle;\n",
       "    }\n",
       "\n",
       "    .dataframe tbody tr th {\n",
       "        vertical-align: top;\n",
       "    }\n",
       "\n",
       "    .dataframe thead th {\n",
       "        text-align: right;\n",
       "    }\n",
       "</style>\n",
       "<table border=\"1\" class=\"dataframe\">\n",
       "  <thead>\n",
       "    <tr style=\"text-align: right;\">\n",
       "      <th>cat_2</th>\n",
       "      <th>oth_1</th>\n",
       "      <th>oth_2</th>\n",
       "      <th>oth_3</th>\n",
       "    </tr>\n",
       "    <tr>\n",
       "      <th>cat_1</th>\n",
       "      <th></th>\n",
       "      <th></th>\n",
       "      <th></th>\n",
       "    </tr>\n",
       "  </thead>\n",
       "  <tbody>\n",
       "    <tr>\n",
       "      <th>val_1</th>\n",
       "      <td>0</td>\n",
       "      <td>1</td>\n",
       "      <td>-1</td>\n",
       "    </tr>\n",
       "    <tr>\n",
       "      <th>val_2</th>\n",
       "      <td>-1</td>\n",
       "      <td>-1</td>\n",
       "      <td>5</td>\n",
       "    </tr>\n",
       "  </tbody>\n",
       "</table>\n",
       "</div>"
      ],
      "text/plain": [
       "cat_2 oth_1 oth_2 oth_3\n",
       "cat_1                  \n",
       "val_1     0     1    -1\n",
       "val_2    -1    -1     5"
      ]
     },
     "execution_count": 115,
     "metadata": {},
     "output_type": "execute_result"
    }
   ],
   "source": [
    "df_values.fillna(\"-1\",inplace=True)\n",
    "df_values"
   ]
  },
  {
   "cell_type": "markdown",
   "metadata": {},
   "source": [
    "# Try it yourself:"
   ]
  },
  {
   "cell_type": "code",
   "execution_count": 130,
   "metadata": {},
   "outputs": [],
   "source": [
    "# Repeat the above, but  finish with means, not sums and cat_1 goes to columns"
   ]
  },
  {
   "cell_type": "code",
   "execution_count": 135,
   "metadata": {},
   "outputs": [],
   "source": [
    "# now it starts to get difficult: we want to compute co-occurences between two categorical variables \n",
    "# I am trying to simplify the example in class to a single line"
   ]
  },
  {
   "cell_type": "code",
   "execution_count": 142,
   "metadata": {},
   "outputs": [
    {
     "data": {
      "text/html": [
       "<div>\n",
       "<style scoped>\n",
       "    .dataframe tbody tr th:only-of-type {\n",
       "        vertical-align: middle;\n",
       "    }\n",
       "\n",
       "    .dataframe tbody tr th {\n",
       "        vertical-align: top;\n",
       "    }\n",
       "\n",
       "    .dataframe thead th {\n",
       "        text-align: right;\n",
       "    }\n",
       "</style>\n",
       "<table border=\"1\" class=\"dataframe\">\n",
       "  <thead>\n",
       "    <tr style=\"text-align: right;\">\n",
       "      <th>cat_2</th>\n",
       "      <th>oth_1</th>\n",
       "      <th>oth_2</th>\n",
       "      <th>oth_3</th>\n",
       "    </tr>\n",
       "    <tr>\n",
       "      <th>cat_1</th>\n",
       "      <th></th>\n",
       "      <th></th>\n",
       "      <th></th>\n",
       "    </tr>\n",
       "  </thead>\n",
       "  <tbody>\n",
       "    <tr>\n",
       "      <th>val_1</th>\n",
       "      <td>1.0</td>\n",
       "      <td>1.0</td>\n",
       "      <td>NaN</td>\n",
       "    </tr>\n",
       "    <tr>\n",
       "      <th>val_2</th>\n",
       "      <td>NaN</td>\n",
       "      <td>NaN</td>\n",
       "      <td>2.0</td>\n",
       "    </tr>\n",
       "  </tbody>\n",
       "</table>\n",
       "</div>"
      ],
      "text/plain": [
       "cat_2  oth_1  oth_2  oth_3\n",
       "cat_1                     \n",
       "val_1    1.0    1.0    NaN\n",
       "val_2    NaN    NaN    2.0"
      ]
     },
     "execution_count": 142,
     "metadata": {},
     "output_type": "execute_result"
    }
   ],
   "source": [
    "df_count = this_is_a_dataframe.pivot_table(columns=\"cat_2\", index=\"cat_1\", values=\"num_1\", aggfunc=len )\n",
    "df_count"
   ]
  },
  {
   "cell_type": "markdown",
   "metadata": {},
   "source": [
    "## In class, we:\n",
    "1. used group by to count all co-occurences \n",
    "1. then we could use a pivot on the other variable to create a simpler matrix"
   ]
  },
  {
   "cell_type": "code",
   "execution_count": 146,
   "metadata": {},
   "outputs": [
    {
     "data": {
      "text/html": [
       "<div>\n",
       "<style scoped>\n",
       "    .dataframe tbody tr th:only-of-type {\n",
       "        vertical-align: middle;\n",
       "    }\n",
       "\n",
       "    .dataframe tbody tr th {\n",
       "        vertical-align: top;\n",
       "    }\n",
       "\n",
       "    .dataframe thead th {\n",
       "        text-align: right;\n",
       "    }\n",
       "</style>\n",
       "<table border=\"1\" class=\"dataframe\">\n",
       "  <thead>\n",
       "    <tr style=\"text-align: right;\">\n",
       "      <th>cat_2</th>\n",
       "      <th>oth_1</th>\n",
       "      <th>oth_2</th>\n",
       "      <th>oth_3</th>\n",
       "    </tr>\n",
       "    <tr>\n",
       "      <th>cat_1</th>\n",
       "      <th></th>\n",
       "      <th></th>\n",
       "      <th></th>\n",
       "    </tr>\n",
       "  </thead>\n",
       "  <tbody>\n",
       "    <tr>\n",
       "      <th>val_1</th>\n",
       "      <td>1.0</td>\n",
       "      <td>1.0</td>\n",
       "      <td>NaN</td>\n",
       "    </tr>\n",
       "    <tr>\n",
       "      <th>val_2</th>\n",
       "      <td>NaN</td>\n",
       "      <td>NaN</td>\n",
       "      <td>2.0</td>\n",
       "    </tr>\n",
       "  </tbody>\n",
       "</table>\n",
       "</div>"
      ],
      "text/plain": [
       "cat_2  oth_1  oth_2  oth_3\n",
       "cat_1                     \n",
       "val_1    1.0    1.0    NaN\n",
       "val_2    NaN    NaN    2.0"
      ]
     },
     "execution_count": 146,
     "metadata": {},
     "output_type": "execute_result"
    }
   ],
   "source": [
    "# counting elements in a subset of columns and add it as a columns\n",
    "df_count_class = this_is_a_dataframe[['cat_1', 'cat_2']].groupby(['cat_1', 'cat_2']).size().reset_index(name='counts')\n",
    "# - groupby - Seperates all elements of the dataset that have the same pair of values for cat_1 and cat_2 \n",
    "# - size()  - computes the number of rows in each group -> it becomes an index!\n",
    "# - reset_index(name='counts') - we promote the index to column and name it counts\n",
    "# setting City as index\n",
    "df_count_class.set_index(\"cat_1\",inplace=True)\n",
    "# setting the values of \"cat_2\" as new columns and counts as the values in the table\n",
    "df_count_class = df_count_class.pivot(columns=\"cat_2\", values=\"counts\")\n",
    "df_count_class"
   ]
  },
  {
   "cell_type": "markdown",
   "metadata": {},
   "source": [
    "## Here, we:\n",
    "1. use a pivot_table that receives as an extra argument an aggregated function -> it does the same thing as a groupby + pivot\n",
    "2. we need a third variable - num_1 - to count!"
   ]
  },
  {
   "cell_type": "markdown",
   "metadata": {},
   "source": [
    "## We can also concatenate pandas dataframes to create larger ones\n",
    "1. they need to share the same column names (or else you end up with a dataframe with all the columns in the first and all in the second)"
   ]
  },
  {
   "cell_type": "code",
   "execution_count": 153,
   "metadata": {},
   "outputs": [
    {
     "data": {
      "text/html": [
       "<div>\n",
       "<style scoped>\n",
       "    .dataframe tbody tr th:only-of-type {\n",
       "        vertical-align: middle;\n",
       "    }\n",
       "\n",
       "    .dataframe tbody tr th {\n",
       "        vertical-align: top;\n",
       "    }\n",
       "\n",
       "    .dataframe thead th {\n",
       "        text-align: right;\n",
       "    }\n",
       "</style>\n",
       "<table border=\"1\" class=\"dataframe\">\n",
       "  <thead>\n",
       "    <tr style=\"text-align: right;\">\n",
       "      <th></th>\n",
       "      <th>num_1</th>\n",
       "      <th>cat_1</th>\n",
       "      <th>cat_2</th>\n",
       "    </tr>\n",
       "  </thead>\n",
       "  <tbody>\n",
       "    <tr>\n",
       "      <th>0</th>\n",
       "      <td>0</td>\n",
       "      <td>val_1</td>\n",
       "      <td>oth_1</td>\n",
       "    </tr>\n",
       "    <tr>\n",
       "      <th>1</th>\n",
       "      <td>1</td>\n",
       "      <td>val_1</td>\n",
       "      <td>oth_2</td>\n",
       "    </tr>\n",
       "    <tr>\n",
       "      <th>2</th>\n",
       "      <td>2</td>\n",
       "      <td>val_2</td>\n",
       "      <td>oth_3</td>\n",
       "    </tr>\n",
       "    <tr>\n",
       "      <th>3</th>\n",
       "      <td>3</td>\n",
       "      <td>val_2</td>\n",
       "      <td>oth_3</td>\n",
       "    </tr>\n",
       "    <tr>\n",
       "      <th>4</th>\n",
       "      <td>0</td>\n",
       "      <td>val_1</td>\n",
       "      <td>oth_1</td>\n",
       "    </tr>\n",
       "    <tr>\n",
       "      <th>5</th>\n",
       "      <td>1</td>\n",
       "      <td>val_1</td>\n",
       "      <td>oth_2</td>\n",
       "    </tr>\n",
       "    <tr>\n",
       "      <th>6</th>\n",
       "      <td>2</td>\n",
       "      <td>val_2</td>\n",
       "      <td>oth_3</td>\n",
       "    </tr>\n",
       "    <tr>\n",
       "      <th>7</th>\n",
       "      <td>3</td>\n",
       "      <td>val_2</td>\n",
       "      <td>oth_3</td>\n",
       "    </tr>\n",
       "  </tbody>\n",
       "</table>\n",
       "</div>"
      ],
      "text/plain": [
       "   num_1  cat_1  cat_2\n",
       "0      0  val_1  oth_1\n",
       "1      1  val_1  oth_2\n",
       "2      2  val_2  oth_3\n",
       "3      3  val_2  oth_3\n",
       "4      0  val_1  oth_1\n",
       "5      1  val_1  oth_2\n",
       "6      2  val_2  oth_3\n",
       "7      3  val_2  oth_3"
      ]
     },
     "execution_count": 153,
     "metadata": {},
     "output_type": "execute_result"
    }
   ],
   "source": [
    "pd.concat([this_is_a_dataframe, this_is_a_dataframe]).reset_index().drop(\"index\", axis=1)"
   ]
  },
  {
   "cell_type": "markdown",
   "metadata": {},
   "source": [
    "# Ifs and fors"
   ]
  },
  {
   "cell_type": "code",
   "execution_count": 154,
   "metadata": {},
   "outputs": [
    {
     "name": "stdout",
     "output_type": "stream",
     "text": [
      "Hi\n"
     ]
    }
   ],
   "source": [
    "if True:\n",
    "    print(\"Hi\")"
   ]
  },
  {
   "cell_type": "code",
   "execution_count": 156,
   "metadata": {},
   "outputs": [
    {
     "name": "stdout",
     "output_type": "stream",
     "text": [
      "0\n",
      "1\n",
      "2\n",
      "3\n",
      "4\n",
      "5\n",
      "6\n",
      "7\n",
      "8\n",
      "9\n"
     ]
    }
   ],
   "source": [
    "for ind in range(10):\n",
    "    print(ind)"
   ]
  },
  {
   "cell_type": "markdown",
   "metadata": {},
   "source": [
    "Identation marks the beginning and end of ifs and fors in python"
   ]
  },
  {
   "cell_type": "code",
   "execution_count": 160,
   "metadata": {},
   "outputs": [
    {
     "name": "stdout",
     "output_type": "stream",
     "text": [
      "1\n",
      "[2, 3]\n",
      "[2, 3]\n"
     ]
    }
   ],
   "source": [
    "# fors iterate over lists or any type of sequential data, e.g., ranges:\n",
    "for val in this_is_a_list:\n",
    "    print(val)"
   ]
  },
  {
   "cell_type": "code",
   "execution_count": 161,
   "metadata": {},
   "outputs": [
    {
     "name": "stdout",
     "output_type": "stream",
     "text": [
      "0\n",
      "1\n",
      "2\n",
      "10\n"
     ]
    }
   ],
   "source": [
    "for val in this_is_an_array:\n",
    "    print(val)"
   ]
  },
  {
   "cell_type": "code",
   "execution_count": 165,
   "metadata": {},
   "outputs": [
    {
     "name": "stdout",
     "output_type": "stream",
     "text": [
      "['cakes', ['ginger', 'chocolate', 'yogurt']]\n",
      "['soups', 'carrot']\n",
      "[24, {'another_dictionary_key': 'another_dictionary_value'}]\n"
     ]
    }
   ],
   "source": [
    "for (key, value) in this_is_a_dictionary.items():\n",
    "    print([key, value])"
   ]
  },
  {
   "cell_type": "markdown",
   "metadata": {},
   "source": [
    "### You may use list comprehension to represent this"
   ]
  },
  {
   "cell_type": "code",
   "execution_count": 167,
   "metadata": {},
   "outputs": [
    {
     "name": "stdout",
     "output_type": "stream",
     "text": [
      "1\n",
      "[2, 3]\n",
      "[2, 3]\n"
     ]
    },
    {
     "data": {
      "text/plain": [
       "[None, None, None]"
      ]
     },
     "execution_count": 167,
     "metadata": {},
     "output_type": "execute_result"
    }
   ],
   "source": [
    "[print(c) for c in this_is_a_list]"
   ]
  },
  {
   "cell_type": "markdown",
   "metadata": {},
   "source": [
    "### the main use of list comprehension is when we want to transform a sequence and create a new one"
   ]
  },
  {
   "cell_type": "code",
   "execution_count": 173,
   "metadata": {},
   "outputs": [
    {
     "data": {
      "text/plain": [
       "array([16,  4,  1, 16,  4, 49])"
      ]
     },
     "execution_count": 173,
     "metadata": {},
     "output_type": "execute_result"
    }
   ],
   "source": [
    "string_list = [\"this\", \"is\", \"a\", \"list\", \"of\", \"strings\"]"
   ]
  },
  {
   "cell_type": "code",
   "execution_count": 177,
   "metadata": {},
   "outputs": [
    {
     "data": {
      "text/plain": [
       "array([16,  4,  1, 16,  4, 49])"
      ]
     },
     "execution_count": 177,
     "metadata": {},
     "output_type": "execute_result"
    }
   ],
   "source": [
    "new_array= np.array([len(val)**2 for val in string_list])\n",
    "new_array"
   ]
  },
  {
   "cell_type": "markdown",
   "metadata": {},
   "source": [
    "#### in the \"traditional way this would be\""
   ]
  },
  {
   "cell_type": "code",
   "execution_count": 178,
   "metadata": {},
   "outputs": [
    {
     "data": {
      "text/plain": [
       "array([16,  4,  1, 16,  4, 49])"
      ]
     },
     "execution_count": 178,
     "metadata": {},
     "output_type": "execute_result"
    }
   ],
   "source": [
    "new_list = [] #initialize the new list\n",
    "for val in string_list: # iterate over the values of the new list\n",
    "    new_list.append(len(val)**2)   # for each element compute length and its square value\n",
    "new_array=np.array(new_list) # convert to numpy\n",
    "new_array"
   ]
  },
  {
   "cell_type": "markdown",
   "metadata": {},
   "source": [
    "# Plots"
   ]
  },
  {
   "cell_type": "code",
   "execution_count": 183,
   "metadata": {},
   "outputs": [],
   "source": [
    "# use linspace to create a list of equally spaced points between 0 and 10\n",
    "x = np.linspace(0,10,100)\n",
    "# compute the square value\n",
    "y = x**2"
   ]
  },
  {
   "cell_type": "code",
   "execution_count": 185,
   "metadata": {},
   "outputs": [
    {
     "data": {
      "image/png": "[encoded data removed]",
      "text/plain": [
       "<Figure size 432x288 with 1 Axes>"
      ]
     },
     "metadata": {
      "needs_background": "light"
     },
     "output_type": "display_data"
    }
   ],
   "source": [
    "plt.plot(x, y);"
   ]
  },
  {
   "cell_type": "code",
   "execution_count": 198,
   "metadata": {},
   "outputs": [
    {
     "data": {
      "text/plain": [
       "<matplotlib.legend.Legend at 0x7f6be93195e0>"
      ]
     },
     "execution_count": 198,
     "metadata": {},
     "output_type": "execute_result"
    },
    {
     "data": {
      "image/png": "[encoded data removed]",
      "text/plain": [
       "<Figure size 432x288 with 1 Axes>"
      ]
     },
     "metadata": {
      "needs_background": "light"
     },
     "output_type": "display_data"
    }
   ],
   "source": [
    "# add labels, units, title and legend\n",
    "plt.plot(x, y, label=\"car\")\n",
    "plt.xlabel(\"time (s)\")\n",
    "plt.ylabel(\"distance (m)\");\n",
    "plt.title(\"The car is moving at a constant accelaration of 2 m s$^{-2}$\")\n",
    "plt.legend()"
   ]
  },
  {
   "cell_type": "markdown",
   "metadata": {},
   "source": [
    "# try it yourself (search google!):\n",
    "0. compute a new y - using other function, e.g., y=np.sqrt(x) or y=0.5*x * *2   \n",
    "1. plot it together with the above plot: but  \n",
    "    - use \"scooter\" for the text in the legend  \n",
    "    - use a red line color to red  \n",
    "    - change the pattern to a dashed line  \n",
    "    - change the line width to 5  "
   ]
  },
  {
   "cell_type": "code",
   "execution_count": 207,
   "metadata": {},
   "outputs": [
    {
     "data": {
      "image/png": "[encoded data removed]",
      "text/plain": [
       "<Figure size 432x288 with 1 Axes>"
      ]
     },
     "metadata": {
      "needs_background": "light"
     },
     "output_type": "display_data"
    }
   ],
   "source": [
    "# add labels, units, title and legend\n",
    "y2 = y/2\n",
    "plt.plot(x, y, label=\"car\")\n",
    "plt.plot(x, y2, \"r--\", linewidth=5, label=\"scooter\")\n",
    "plt.xlabel(\"time (s)\")\n",
    "plt.ylabel(\"distance (m)\");\n",
    "plt.title(\"The car is moving at a constant accelaration of 2 m s$^{-2}$\")\n",
    "plt.legend();"
   ]
  },
  {
   "cell_type": "code",
   "execution_count": 208,
   "metadata": {},
   "outputs": [
    {
     "data": {
      "image/png": "[encoded data removed]",
      "text/plain": [
       "<Figure size 432x288 with 1 Axes>"
      ]
     },
     "metadata": {
      "needs_background": "light"
     },
     "output_type": "display_data"
    }
   ],
   "source": [
    "# add text \n",
    "plt.plot(x, y)\n",
    "plt.xlabel(\"time (s)\")\n",
    "plt.ylabel(\"distance (m)\");\n",
    "plt.title(\"The car is moving at a constant accelaration of 2 m s$^{-2}$\")\n",
    "plt.text(10,100,\"(10,100)\");"
   ]
  },
  {
   "cell_type": "code",
   "execution_count": 212,
   "metadata": {},
   "outputs": [
    {
     "data": {
      "image/png": "[encoded data removed]",
      "text/plain": [
       "<Figure size 432x288 with 1 Axes>"
      ]
     },
     "metadata": {
      "needs_background": "light"
     },
     "output_type": "display_data"
    }
   ],
   "source": [
    "# add horizontal line\n",
    "## NOTE: horizontal lines are just an x and a y where the x goes from 0 to max value, and y is constant!\n",
    "x_horizontal_line = [0, np.max(x)] \n",
    "y_horizontal_line = [20, 20]\n",
    "# add text \n",
    "plt.plot(x_horizontal_line, y_horizontal_line)\n",
    "plt.plot(x,y)\n",
    "plt.xlabel(\"time (s)\")\n",
    "plt.ylabel(\"distance (m)\");\n",
    "plt.title(\"The car is moving at a constant accelaration of 2 m s$^{-2}$\")\n",
    "plt.text(10,100,\"(10,100)\");"
   ]
  },
  {
   "cell_type": "markdown",
   "metadata": {},
   "source": [
    "### try it yourself\n",
    "1. plot a vertical line at time=2  \n",
    "2. use a for loop or list comprehension to plot other lines at 4, 6, 8 and 10\n",
    "- use a dash point dash green line\n"
   ]
  },
  {
   "cell_type": "code",
   "execution_count": 227,
   "metadata": {},
   "outputs": [
    {
     "data": {
      "image/png": "[encoded data removed]",
      "text/plain": [
       "<Figure size 432x288 with 1 Axes>"
      ]
     },
     "metadata": {
      "needs_background": "light"
     },
     "output_type": "display_data"
    }
   ],
   "source": [
    "y_vertical_line = [0, np.max(y)]\n",
    "x_vertical_line = [2, 2]\n",
    "for i in range(4):\n",
    "    plt.plot([2*(i+1), 2*(i+1)], y_vertical_line, \"g-.\")\n",
    "plt.plot(x,y)\n",
    "plt.xlabel(\"time (s)\")\n",
    "plt.ylabel(\"distance (m)\");\n",
    "plt.title(\"The car is moving at a constant accelaration of 2 m s$^{-2}$\")\n",
    "plt.text(10,100,\"(10,100)\");"
   ]
  }
 ],
 "metadata": {
  "kernelspec": {
   "display_name": "data_viz_env",
   "language": "python",
   "name": "data_viz_env"
  },
  "language_info": {
   "codemirror_mode": {
    "name": "ipython",
    "version": 3
   },
   "file_extension": ".py",
   "mimetype": "text/x-python",
   "name": "python",
   "nbconvert_exporter": "python",
   "pygments_lexer": "ipython3",
   "version": "3.8.6"
  }
 },
 "nbformat": 4,
 "nbformat_minor": 4
}
