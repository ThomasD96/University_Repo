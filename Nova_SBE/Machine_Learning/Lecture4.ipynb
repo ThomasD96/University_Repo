{
 "cells": [
  {
   "cell_type": "markdown",
   "metadata": {},
   "source": [
    "# Evaluating classifiers"
   ]
  },
  {
   "cell_type": "code",
   "execution_count": null,
   "metadata": {},
   "outputs": [],
   "source": [
    "import pandas as pd \n",
    "import numpy as np \n",
    "import matplotlib.pyplot as plt\n",
    "# allow multiple outputs per cell\n",
    "from IPython.core.interactiveshell import InteractiveShell\n",
    "InteractiveShell.ast_node_interactivity = \"all\""
   ]
  },
  {
   "cell_type": "markdown",
   "metadata": {},
   "source": [
    "Let us first import our data set about wine quality. The dataset is available in UCI repository https://archive.ics.uci.edu/ml/datasets/wine+quality, and you have the downloaded csv.\n",
    "This dataset is one of the two datasets that are related to red and white variants of the Portuguese \"Vinho Verde\" wine.\n",
    "For more details, please consult: http://www.vinhoverde.pt/en/ or the reference [Cortez et al., 2009].  \n",
    " \n",
    "First let's import the csv you downloaded with this notebook into a panda dataframe. Make sure the dataset is in the same directory as where you placed the notebook. The default separator for reading cvs files is ',' so we need to specify that in our csv file, the columns are separated with ';'. "
   ]
  },
  {
   "cell_type": "code",
   "execution_count": null,
   "metadata": {},
   "outputs": [],
   "source": [
    "\n",
    "df=pd.read_csv('winequality-white.csv', sep=';')"
   ]
  },
  {
   "cell_type": "markdown",
   "metadata": {},
   "source": [
    "Let's take a look at the first 5 lines of our dataset."
   ]
  },
  {
   "cell_type": "code",
   "execution_count": null,
   "metadata": {},
   "outputs": [],
   "source": [
    "df.head()"
   ]
  },
  {
   "cell_type": "markdown",
   "metadata": {},
   "source": [
    "Now, let's get some info on our dataset."
   ]
  },
  {
   "cell_type": "code",
   "execution_count": null,
   "metadata": {},
   "outputs": [],
   "source": [
    "df.info()"
   ]
  },
  {
   "cell_type": "markdown",
   "metadata": {},
   "source": [
    "Notice that we have 4898 data instances (rows) and 10 float features and a integer feature quality which will be used to construct the target. Let's check the statistics of the numerical columns (in our case, all the features are numerical)."
   ]
  },
  {
   "cell_type": "code",
   "execution_count": null,
   "metadata": {},
   "outputs": [],
   "source": [
    "df.describe()"
   ]
  },
  {
   "cell_type": "markdown",
   "metadata": {},
   "source": [
    "Let's now check the distribution of the attribute *quality*."
   ]
  },
  {
   "cell_type": "code",
   "execution_count": null,
   "metadata": {},
   "outputs": [],
   "source": [
    "df['quality'].value_counts()"
   ]
  },
  {
   "cell_type": "markdown",
   "metadata": {},
   "source": [
    " This is not a binary classification problem – so we will turn it into one. Let’s say the wine is Good (label 1) if the quality is 7 or above, and Bad (label 0) otherwise:"
   ]
  },
  {
   "cell_type": "code",
   "execution_count": null,
   "metadata": {},
   "outputs": [],
   "source": [
    "df['target']=0\n",
    "df.loc[df.quality>=7,'target']=1\n",
    "# alternatively we could have written df['target']=[1 if quality>=7 else 0 for quality in df['quality']]\n",
    "df['target'].value_counts()"
   ]
  },
  {
   "cell_type": "markdown",
   "metadata": {},
   "source": [
    "We can plot the percentages of the target variable"
   ]
  },
  {
   "cell_type": "code",
   "execution_count": null,
   "metadata": {},
   "outputs": [],
   "source": [
    "ax=df['target'].value_counts(normalize=True).plot(kind='bar')\n",
    "ax.set_title('percentage of the classes')\n",
    "ax.set_xlabel('type of wine')"
   ]
  },
  {
   "cell_type": "markdown",
   "metadata": {},
   "source": [
    "Notice that we have quite the common case where we do not have the same percentage of classes, bad wines are more common than our good ones: we have an imbalanced dataset. There are different techniques for dealing with such datasets, but we will only discuss them later."
   ]
  },
  {
   "cell_type": "markdown",
   "metadata": {},
   "source": [
    "Let's now drop the column we used to construct our target, otherwise the model could just learn the simple mapping from quality to target. And let's check our columns."
   ]
  },
  {
   "cell_type": "code",
   "execution_count": null,
   "metadata": {},
   "outputs": [],
   "source": [
    "df.drop(columns='quality', inplace=True)\n",
    "df.columns"
   ]
  },
  {
   "cell_type": "markdown",
   "metadata": {},
   "source": [
    "Now, let's see do we have missing data."
   ]
  },
  {
   "cell_type": "code",
   "execution_count": null,
   "metadata": {},
   "outputs": [],
   "source": [
    " df.isnull().sum()"
   ]
  },
  {
   "cell_type": "markdown",
   "metadata": {},
   "source": [
    "We do not have any missing values, so we can proceed with classification. To see the generalization performance of our model, we need to use a holdout set: that is, we hold back some subset of the data from the training of the model, and then use this holdout set to check the model performance. This splitting can be done using the train_test_split utility in Scikit-Learn:"
   ]
  },
  {
   "cell_type": "code",
   "execution_count": null,
   "metadata": {},
   "outputs": [],
   "source": [
    "from sklearn.model_selection import train_test_split\n",
    "X=df.drop(columns='target')\n",
    "y=df['target']\n",
    "# split the data with 50% in each set\n",
    "X_train, X_test, y_train, y_test = train_test_split(X, y, random_state=42,\n",
    "                                  test_size=0.25)\n",
    "X_train.shape\n",
    "X_test.shape\n",
    "y_train.shape\n",
    "y_test.shape"
   ]
  },
  {
   "cell_type": "markdown",
   "metadata": {},
   "source": [
    "Let's scale our data. It is not necessary for basic Logistic Regression, but it is recommended in regularized versions. Now, let's do it for practice."
   ]
  },
  {
   "cell_type": "code",
   "execution_count": null,
   "metadata": {},
   "outputs": [],
   "source": [
    "from sklearn.preprocessing import StandardScaler\n",
    "scaler = StandardScaler()\n",
    "scaler.fit(X_train)\n",
    "\n",
    "X_train = scaler.transform(X_train)\n",
    "X_test = scaler.transform(X_test)"
   ]
  },
  {
   "cell_type": "markdown",
   "metadata": {},
   "source": [
    "Let's now classify using Logistic Regression. Note that we will use the train dataset to train our model, and we will use the test dataset to evaluate it."
   ]
  },
  {
   "cell_type": "code",
   "execution_count": null,
   "metadata": {},
   "outputs": [],
   "source": [
    "from sklearn.linear_model import LogisticRegression\n",
    "log_reg = LogisticRegression(solver=\"liblinear\", random_state=42)\n",
    "log_reg.fit(X, y) "
   ]
  },
  {
   "cell_type": "markdown",
   "metadata": {},
   "source": [
    "Recall that sklearn method for models *predict* outputs the predicted class, while *predict_proba* outputs the probability of belonging to a class. The default threshold for deciding the classes in the case of binary classification is 0.5, hence Logistic Regression chooses the class that has the biggest probability: outputs 1 if P(Y=1|x) > 0.5 (then obviously P(Y=0|x) <P(Y=1|x)). "
   ]
  },
  {
   "cell_type": "code",
   "execution_count": null,
   "metadata": {},
   "outputs": [],
   "source": [
    "#generate predicted classes for test data\n",
    "y_pred= log_reg.predict(X_test)\n",
    "#generate predicted probabilites for test data\n",
    "y_pred_prob = log_reg.predict_proba(X_test)\n"
   ]
  },
  {
   "cell_type": "markdown",
   "metadata": {},
   "source": [
    "Now let's look at some evaluation metrics."
   ]
  },
  {
   "cell_type": "markdown",
   "metadata": {},
   "source": [
    "#### Confusion matrix\n",
    "The predicted classes are represented in the columns of the matrix, whereas the actual classes are in the rows of the matrix. We then have four cases:\n",
    "- True positives (TP): the cases for which the classifier predicted 1 and the the class is actually 1.\n",
    "- True negatives (TN): the cases for which the classifier predicted 0 and the class is actually 0.\n",
    "- False positives (FP): the cases for which the classifier predicted 1 but class is actually 0.\n",
    "- False negatives (FN): the cases for which the classifier predicted 0 but the the class is actually 1.\n",
    "\n",
    "In order to avoid confusion, note the following. ‘True’ or ‘false’ indicate if the classifier predicted the class correctly, whereas ‘positive’ or ‘negative’ indicate if the classifier predicted the desired class (in this case, ‘positive’ correspond to ‘good wine’, as this is the type of wine we want to predict).\n",
    "The entries of the confusion matrix are the number of occurrences of each class for the dataset being analysed. Let’s obtain the confusion matrix by using the function confusion_matrix:\n"
   ]
  },
  {
   "cell_type": "code",
   "execution_count": null,
   "metadata": {},
   "outputs": [],
   "source": [
    "from sklearn.metrics import confusion_matrix, plot_confusion_matrix\n",
    "\n",
    "print(confusion_matrix(y_test, y_pred))\n",
    "y_test.value_counts()\n",
    "plot_confusion_matrix(log_reg, X_test, y_test)"
   ]
  },
  {
   "cell_type": "markdown",
   "metadata": {},
   "source": [
    "Let's interpret these values:\n",
    "Out of the 284 instances of class 1 in our test set, the model identified 157 of them as 1, and 127 predicted as 0 (false negatives, type II error).\n",
    "Out of 941 wines of class 0, 717 were identified correctly as 0, and 224 were false positives (type I error)."
   ]
  },
  {
   "attachments": {
    "26187f54-08e0-4d2a-8280-612aeb849ea7.png": {
     "image/png": "[encoded data removed]"
    },
    "5a75e6fc-50ba-4b92-8e69-d0a04cb78c12.png": {
     "image/png": "[encoded data removed]"
    },
    "8ffa42bc-da44-4b3b-b47f-993e15366cb4.png": {
     "image/png": "[encoded data removed]"
    },
    "bd0eb00d-176e-4386-9056-2cc8700d37cd.png": {
     "image/png": "[encoded data removed]"
    }
   },
   "cell_type": "markdown",
   "metadata": {},
   "source": [
    "#### Accuracy, precision, recall,F1 score\n",
    "There are many different metrics we could check.\n",
    "\n",
    "Accuracy: it answers the question:\"How many decisions did we get right?\"\n",
    "<div>\n",
    "<img src=\"attachment:bd0eb00d-176e-4386-9056-2cc8700d37cd.png\" width=\"200\"/>\n",
    "</div>\n",
    "\n",
    "\n",
    "Precision: it answers the question:\n",
    "\"When it predicts the positive result, how often is it correct?\"\n",
    "<div>\n",
    "<img src=\"attachment:8ffa42bc-da44-4b3b-b47f-993e15366cb4.png\" width=\"200\"/>\n",
    "</div>\n",
    "Recall: it answers the question: \"How many instances of positive class did it actually identify?\"\n",
    "<div>\n",
    "<img src=\"attachment:26187f54-08e0-4d2a-8280-612aeb849ea7.png\" width=\"150\"/>\n",
    "</div>\n",
    "F1-score: this is just the harmonic mean of precision and recall:\n",
    "<div>\n",
    "<img src=\"attachment:5a75e6fc-50ba-4b92-8e69-d0a04cb78c12.png\" width=\"300\"/>\n",
    "</div>\n",
    "\n",
    "Sklearn offers a report on all the metrics for all the classes."
   ]
  },
  {
   "cell_type": "code",
   "execution_count": null,
   "metadata": {},
   "outputs": [],
   "source": [
    "from sklearn.metrics import classification_report\n",
    "\n",
    "print(classification_report(y_test, y_pred))"
   ]
  },
  {
   "cell_type": "markdown",
   "metadata": {},
   "source": [
    "Alternatively, we could check the metrics individually."
   ]
  },
  {
   "cell_type": "code",
   "execution_count": null,
   "metadata": {},
   "outputs": [],
   "source": [
    "from sklearn.metrics import precision_score, recall_score, accuracy_score, f1_score\n",
    "print('accuracy is ', accuracy_score(y_test, y_pred))\n",
    "print('precision is', precision_score(y_test, y_pred))\n",
    "print('recall is', recall_score(y_test, y_pred))\n",
    "print('F1 score is', f1_score(y_test, y_pred))"
   ]
  },
  {
   "cell_type": "markdown",
   "metadata": {},
   "source": [
    "Note that the accuracy seems relatively high compared to other metrics, this is because the dataset in unbalanced, and the model does a much better job for majority class 0, compared to class 1. Accuracy calculates the overall number of correct decisions, while the other metrics refer to class 1."
   ]
  },
  {
   "cell_type": "markdown",
   "metadata": {},
   "source": [
    "#### ROC, ROC AUC, Precision Recall Curves, PR AUC\n",
    "So far, we have only considered the threshold of 0.5, and we did not look at the overall performance of the classifier. \n",
    "Let's now check the metrics which show the model performance for all the possible thresholds.\n",
    "Receiver operating characteristic (ROC) curve is created by plotting the true positive rate (TPR) (or recall) against the false positive rate (FPR)."
   ]
  },
  {
   "cell_type": "code",
   "execution_count": null,
   "metadata": {},
   "outputs": [],
   "source": [
    "from sklearn.metrics import  plot_roc_curve\n",
    "import matplotlib.pyplot as plt\n",
    "plot_roc_curve(log_reg, X_test, y_test) \n",
    "plt.plot([0, 1], [0, 1],'r--')"
   ]
  },
  {
   "cell_type": "markdown",
   "metadata": {},
   "source": [
    "The plot already shows the value of AUC (Area under the curve), but we could also check it directly. Note that now as the argument we use predicted probabilities. The array y_pred_prob has two columns, one for each class. We need to use the probabilities of belonging to class 1, hence we choose the second column: y_pred_prob[:,1]"
   ]
  },
  {
   "cell_type": "code",
   "execution_count": null,
   "metadata": {},
   "outputs": [],
   "source": [
    "from sklearn.metrics import roc_auc_score\n",
    "print('ROC AUC is', roc_auc_score(y_test, y_pred_prob[:,1]) )"
   ]
  },
  {
   "cell_type": "markdown",
   "metadata": {},
   "source": [
    "Or the same value could be calculated using the funcion *auc*."
   ]
  },
  {
   "cell_type": "code",
   "execution_count": null,
   "metadata": {},
   "outputs": [],
   "source": [
    "from sklearn.metrics import roc_curve, auc\n",
    "fpr, tpr, threshold = roc_curve(y_test, y_pred_prob[:,1])\n",
    "roc_auc = auc(fpr, tpr)\n",
    "print('ROC AUC is', roc_auc) "
   ]
  },
  {
   "cell_type": "markdown",
   "metadata": {},
   "source": [
    "Now, let's look at the precision recall curve."
   ]
  },
  {
   "cell_type": "code",
   "execution_count": null,
   "metadata": {},
   "outputs": [],
   "source": [
    "from sklearn.metrics import plot_precision_recall_curve, precision_recall_curve, auc\n",
    "plot_precision_recall_curve(log_reg, X_test, y_test)\n"
   ]
  },
  {
   "cell_type": "markdown",
   "metadata": {},
   "source": [
    "As with the ROC curve, each point in the plot corresponds to a different threshold. Threshold equal to 0 implies that the recall is 1, whereas threshold equal to 1 implies that the recall is 0. Note that the precision starts from roughly 0.2, as there aren't many false positives (since class 1 accounts for roughly 20% of the dataset). With the precision-recall curve, the closer it is to the top-right corner, the better the algorithm. And hence a larger area under the curve (AUC) indicates that the algorithm has higher recall and higher precision. We can again check the area under the curve AUC. "
   ]
  },
  {
   "cell_type": "code",
   "execution_count": null,
   "metadata": {},
   "outputs": [],
   "source": [
    "precision, recall, thresholds = precision_recall_curve(y_test, y_pred_prob[:,1])\n",
    "auc_precision_recall = auc(recall, precision)\n",
    "print(auc_precision_recall)"
   ]
  },
  {
   "cell_type": "markdown",
   "metadata": {},
   "source": [
    "PR AUC is also known as the average precision and can be calculated as follows:"
   ]
  },
  {
   "cell_type": "code",
   "execution_count": null,
   "metadata": {},
   "outputs": [],
   "source": [
    "from sklearn.metrics import average_precision_score\n",
    "average_precision = average_precision_score(y_test, y_pred_prob[:,1])\n",
    "print(average_precision)"
   ]
  },
  {
   "cell_type": "markdown",
   "metadata": {},
   "source": [
    "AUC is not connected with any particular threshold (we are averaging over all the possible thresholds), and so it doesn’t tell us which is the best threshold to consider for useful classification predictions. We could also check what value of threshold would give us the highest f1 score."
   ]
  },
  {
   "cell_type": "code",
   "execution_count": null,
   "metadata": {},
   "outputs": [],
   "source": [
    "f1_scores = 2*recall*precision/(recall+precision)\n",
    "best_threshold=thresholds[np.argmax(f1_scores)]\n",
    "print('Best threshold: ', best_threshold)\n",
    "print('Best F1-Score: ', np.max(f1_scores))"
   ]
  },
  {
   "cell_type": "markdown",
   "metadata": {},
   "source": [
    "Let's now check the confusion matrix if we used the threhold that maximizes F1."
   ]
  },
  {
   "cell_type": "code",
   "execution_count": null,
   "metadata": {},
   "outputs": [],
   "source": [
    "y_pred_new = (y_pred_prob[:,1] >= best_threshold).astype(int)\n",
    "print('previous confusion matrix')\n",
    "print(confusion_matrix(y_test, y_pred))\n",
    "print('new confusion matrix')\n",
    "print(confusion_matrix(y_test, y_pred_new))\n",
    "print('previous metrics')\n",
    "print(classification_report(y_test, y_pred))\n",
    "print('new metrics')\n",
    "print(classification_report(y_test, y_pred_new))"
   ]
  },
  {
   "cell_type": "markdown",
   "metadata": {},
   "source": [
    "Notice that for almost the same precision, with this new threshold we have a much better recall (for class 1). "
   ]
  },
  {
   "cell_type": "markdown",
   "metadata": {},
   "source": [
    "#### Cumulative response and lift curves\n",
    "We will use an additional library: please install in your environment:\n",
    "\n",
    "conda install -c conda-forge scikit-plot\n",
    "\n",
    "Cumulative response curve is similar to ROC, but more intuitive. \n",
    "It plots the hit rate (true positive rate; y axis), i.e., the percentage of positives correctly classified, as a function  of the percentage of the population that is targeted (x axis). \n"
   ]
  },
  {
   "cell_type": "code",
   "execution_count": null,
   "metadata": {},
   "outputs": [],
   "source": [
    "from scikitplot.metrics import plot_cumulative_gain\n",
    "plt.figure(figsize=(7,7))\n",
    "plot_cumulative_gain(y_test, y_pred_prob)\n"
   ]
  },
  {
   "cell_type": "markdown",
   "metadata": {},
   "source": [
    "We see that if we consider the top 20% ranked instances, we would get around 40% of instances of class 1.\n",
    "\n",
    "The lift curve is essentially the value of the cumulative response curve at a given x point divided by the diagonal line (y=x) value at that point. "
   ]
  },
  {
   "cell_type": "code",
   "execution_count": null,
   "metadata": {},
   "outputs": [],
   "source": [
    "from scikitplot.metrics import plot_lift_curve\n",
    "plt.figure(figsize=(7,7))\n",
    "plot_lift_curve(y_test, y_pred_prob)\n",
    "plt.show()"
   ]
  },
  {
   "cell_type": "markdown",
   "metadata": {},
   "source": [
    "We see that if we consider the top 20% ranked instances, we would get almost twice as many instances of class 1, compared to if we took random 20% of instances (Lift around 2). The value of lift is \"the value of the cumulative response curve at a given x point divided by the diagonal line (y=x) value at that point\". As thhe cumulative response curve at 20% is 40%, diving 40 by 20 gives us our lift of 2.\n",
    "\n"
   ]
  },
  {
   "cell_type": "markdown",
   "metadata": {},
   "source": [
    "### Practice question\n",
    "\n",
    "For the same dataset apply KNN Classifier with some number of neighbors of your choice.\n",
    "Evaluate the performance of the algorithm, looking at all of the above metrics.\n",
    "\n",
    "\n"
   ]
  },
  {
   "cell_type": "markdown",
   "metadata": {},
   "source": [
    "## Cross validation and Hyperparameter tuning"
   ]
  },
  {
   "cell_type": "markdown",
   "metadata": {},
   "source": [
    "Let's now look at the familiar example of polynomial regression.\n",
    "Adapted from https://jakevdp.github.io/PythonDataScienceHandbook/05.03-hyperparameters-and-model-validation.html"
   ]
  },
  {
   "cell_type": "markdown",
   "metadata": {},
   "source": [
    "First, let's generate some data."
   ]
  },
  {
   "cell_type": "code",
   "execution_count": null,
   "metadata": {},
   "outputs": [],
   "source": [
    "#ravel: A 1-D array, containing the elements of the input, is returned\n",
    "m=1000\n",
    "np.random.seed(42)\n",
    "X = 10* np.random.rand(m, 1) ** 2\n",
    "y = 10 - 1. / (X.ravel() + 0.1)\n",
    "y += 0.1 * np.random.randn(m)"
   ]
  },
  {
   "cell_type": "markdown",
   "metadata": {},
   "source": [
    "Next, let's visualize our data."
   ]
  },
  {
   "cell_type": "code",
   "execution_count": null,
   "metadata": {},
   "outputs": [],
   "source": [
    "plt.plot(X, y, \"b.\")\n",
    "plt.xlabel(\"$x$\", fontsize=18)\n",
    "plt.ylabel(\"$y$\", rotation=0, fontsize=18)\n"
   ]
  },
  {
   "cell_type": "markdown",
   "metadata": {},
   "source": [
    "Now, let's use the same pipeline similar to lecture 2, where we used PolynomialFeatures to transform our training data, adding the polynomials up to a specified degree of each feature in the training set as new features (in this case there is just one feature). Then we used linear regression.\n",
    "Recall that *Pipeline* allows us to sequentially apply a list of transforms and a final estimator. The purpose of the pipeline is to assemble several steps that can be cross-validated together while setting different parameters. \n",
    "We will use *make_pipeline* which constructs a Pipeline from the given estimators. This is a shorthand for the Pipeline constructor; it does not require, and does not permit, naming the estimators. Instead, their names will be set to the lowercase of their types automatically.\n",
    "\n",
    "\n"
   ]
  },
  {
   "cell_type": "code",
   "execution_count": null,
   "metadata": {},
   "outputs": [],
   "source": [
    "from sklearn.preprocessing import PolynomialFeatures\n",
    "from sklearn.linear_model import LinearRegression\n",
    "from sklearn.pipeline import make_pipeline\n",
    "def PolynomialRegression(degree=2, **kwargs):\n",
    "    return make_pipeline(PolynomialFeatures(degree, include_bias=False),\n",
    "                         LinearRegression(**kwargs))"
   ]
  },
  {
   "cell_type": "markdown",
   "metadata": {},
   "source": [
    "All scikit-learn estimators have *get_params* and *set_params* functions. The *get_params* function takes no arguments and returns a dictionary of the _init_ parameters of the estimator, together with their values. Let's check the parameters of our pipeline (we will need it later on)."
   ]
  },
  {
   "cell_type": "code",
   "execution_count": null,
   "metadata": {},
   "outputs": [],
   "source": [
    "PolynomialRegression().get_params()"
   ]
  },
  {
   "cell_type": "markdown",
   "metadata": {},
   "source": [
    "Next, let's fit our new estimator (polynomial features + linear regression) to our training data (X,y) for varying number of degrees. Then, let's generate 500 points in the range(-0.1,10.1) and predict their y value with these estimators of different degrees."
   ]
  },
  {
   "cell_type": "code",
   "execution_count": null,
   "metadata": {},
   "outputs": [],
   "source": [
    "X_plot_test = np.linspace(-0.1, 10.1, 500)[:, None]\n",
    "plt.scatter(X.ravel(), y, color='b')\n",
    "axis = plt.axis()\n",
    "for degree in [1, 3, 5,10]:\n",
    "    y_plot_test = PolynomialRegression(degree).fit(X, y).predict(X_plot_test)\n",
    "    plt.plot(X_plot_test.ravel(), y_plot_test, label='degree={0}'.format(degree))\n",
    "plt.xlim(-0.1, 10.0)\n",
    "plt.ylim(-2, 12)\n",
    "plt.legend(loc='best');"
   ]
  },
  {
   "cell_type": "markdown",
   "metadata": {},
   "source": [
    "The knob controlling model complexity in this case is the degree of the polynomial, which can be any non-negative integer. A useful question to answer is this: what degree of polynomial provides a suitable trade-off between bias (under-fitting) and variance (over-fitting)?\n"
   ]
  },
  {
   "cell_type": "markdown",
   "metadata": {},
   "source": [
    "Learning the parameters of a prediction function and testing it on the same data is a mistake: a model that would just repeat the labels of the samples that it has just seen would have a perfect score but would fail to predict anything useful on yet-unseen data. \n",
    "This situation is called overfitting. To avoid it, it is common practice when performing a (supervised) machine learning experiment to hold out part of the available data as a test set X_test, y_test. \n",
    "When evaluating different settings (“hyperparameters”) for estimators, there is still a risk of overfitting on the test set because the parameters can be tweaked until the estimator performs optimally. This way, knowledge about the test set can “leak” into the model and evaluation metrics no longer report on generalization performance. To solve this problem, yet another part of the dataset can be held out as a so-called “validation set”: training proceeds on the training set, after which evaluation is done on the validation set, and when the experiment seems to be successful, final evaluation can be done on the test set.\n",
    "\n",
    "However, by partitioning the available data into three sets, we drastically reduce the number of samples which can be used for learning the model, and the results can depend on a particular random choice for the pair of (train, validation) sets.\n",
    "\n",
    "A solution to this problem is a procedure called cross-validation (CV for short). A test set should still be held out for final evaluation, but the validation set is no longer needed when doing CV. In the basic approach, called k-fold CV, the training set is split into k smaller sets. The following procedure is followed for each of the k “folds”:\n",
    "- a model is trained using  of the folds as training data;\n",
    "- the resulting model is validated on the remaining part of the data (i.e., it is used as a test set to compute a performance measure such as accuracy).\n",
    "\n",
    "The performance measure reported by k-fold cross-validation is then the average of the values computed in the loop. This approach can be computationally expensive, but does not waste too much data (as is the case when fixing an arbitrary validation set), which is a major advantage in problems such as inverse inference where the number of samples is very small.\n",
    "\n",
    "Now, let's first split our original X and y into a test and train set. Then, on train set, let's use Cross Validation to evaluate the error of the estimators of different degrees."
   ]
  },
  {
   "cell_type": "code",
   "execution_count": null,
   "metadata": {},
   "outputs": [],
   "source": [
    "X_train, X_test, y_train, y_test = train_test_split(X, y, random_state=42,\n",
    "                                  test_size=0.2)"
   ]
  },
  {
   "cell_type": "markdown",
   "metadata": {},
   "source": [
    "Next, let's fit our estimators and evaluate their score. The simplest way to use cross-validation is to call the *cross_val_score* helper function on the estimator and the dataset. By default, the score computed at each CV iteration is the score method of the estimator. For linear regression this is $R^2$. The following link gives a list of all the possoble optins that scoring parameter of cross_val can take.\n",
    "https://scikit-learn.org/stable/modules/model_evaluation.html\n",
    "The function *cross_val_score* returns an array of scores of the estimator for each run of the cross validation.\n",
    "For each value of degree we will keep a mean of scores accros 10 runs."
   ]
  },
  {
   "cell_type": "code",
   "execution_count": null,
   "metadata": {},
   "outputs": [],
   "source": [
    "from sklearn.model_selection import  cross_val_score\n",
    "degree_range = np.arange(1, 20)\n",
    "\n",
    "lin_scores = []\n",
    "\n",
    "for degree in degree_range:\n",
    "     model=PolynomialRegression(degree) \n",
    "     scores = cross_val_score(model, X_train, y_train, cv=10)\n",
    "     lin_scores.append(scores.mean())\n",
    "\n",
    "plt.plot(degree_range, lin_scores, color='b')\n",
    "plt.xlabel(\"degree of a polynomial\", fontsize=18)\n",
    "plt.ylabel(\"$R^2$\", fontsize=18)       "
   ]
  },
  {
   "cell_type": "markdown",
   "metadata": {},
   "source": [
    "Let's see which value of a degree gave the highest $R^2$\n"
   ]
  },
  {
   "cell_type": "code",
   "execution_count": null,
   "metadata": {},
   "outputs": [],
   "source": [
    "degree_range[np.argmax(lin_scores)]"
   ]
  },
  {
   "cell_type": "markdown",
   "metadata": {},
   "source": [
    "There are simpler way to do the same. Scikit-Learn provides automated tools to do this in the grid search module. Here is an example of using grid search to find the optimal polynomial model.\n",
    "Recall that we checked the names of the parameters of our pipeline estimator, and that the name corresponding to the degree of the polynomialFeatures was denoted as *'polynomialfeatures__degree'*"
   ]
  },
  {
   "cell_type": "code",
   "execution_count": null,
   "metadata": {},
   "outputs": [],
   "source": [
    "from sklearn.model_selection import GridSearchCV\n",
    "\n",
    "param_grid = {'polynomialfeatures__degree': np.arange(1,20)}\n",
    "\n",
    "grid = GridSearchCV(PolynomialRegression(), param_grid, cv=10)"
   ]
  },
  {
   "cell_type": "markdown",
   "metadata": {},
   "source": [
    "Notice that like a normal estimator, this has not yet been applied to any data. Calling the fit() method will fit the model at each grid point, keeping track of the scores along the way:"
   ]
  },
  {
   "cell_type": "code",
   "execution_count": null,
   "metadata": {},
   "outputs": [],
   "source": [
    "grid.fit(X_train, y_train)"
   ]
  },
  {
   "cell_type": "markdown",
   "metadata": {},
   "source": [
    "Now that this is fit, we can ask for the best parameters as follows:"
   ]
  },
  {
   "cell_type": "code",
   "execution_count": null,
   "metadata": {},
   "outputs": [],
   "source": [
    "grid.best_params_"
   ]
  },
  {
   "cell_type": "markdown",
   "metadata": {},
   "source": [
    "Finally, if we wish, we can use the best model and show the fit to our data using .best_estimator_ attribute. By default an estimator is retrained using the best found parameters on the whole dataset."
   ]
  },
  {
   "cell_type": "code",
   "execution_count": null,
   "metadata": {},
   "outputs": [],
   "source": [
    "model = grid.best_estimator_\n",
    "plt.scatter(X.ravel(), y)\n",
    "lim = plt.axis()\n",
    "y_plot_test = model.fit(X_train, y_train).predict(X_plot_test)\n",
    "plt.plot(X_plot_test.ravel(), y_plot_test,'r');"
   ]
  },
  {
   "cell_type": "markdown",
   "metadata": {},
   "source": [
    "The grid search provides many more options, including the ability to search over different combinations of parameters, specify a custom scoring function, to parallelize the computation. For example, we could have also checked whether normalizing the features would lead to a better score.\n",
    "Parameter *normalize* of Linear Regression: if True, the regressors X will be normalized before regression by subtracting the mean and dividing by the l2-norm. "
   ]
  },
  {
   "cell_type": "code",
   "execution_count": null,
   "metadata": {},
   "outputs": [],
   "source": [
    "param_grid = {'polynomialfeatures__degree': np.arange(21),\n",
    "              'linearregression__normalize': [True, False]}"
   ]
  },
  {
   "cell_type": "markdown",
   "metadata": {},
   "source": [
    "If we had many different paramenters and many values to evaluate, randomized search would be a better option than grid.\n",
    "In contrast to GridSearchCV, not all parameter values are tried out, but rather a fixed number of parameter settings is sampled from the specified distributions. The number of parameter settings that are tried is given by n_iter."
   ]
  },
  {
   "cell_type": "code",
   "execution_count": null,
   "metadata": {},
   "outputs": [],
   "source": [
    "from sklearn.model_selection import RandomizedSearchCV\n",
    "from scipy.stats import randint\n",
    "\n",
    "distributions = dict(polynomialfeatures__degree= randint(1,20))\n",
    "random_search = RandomizedSearchCV(PolynomialRegression(), distributions, n_iter=10,random_state=1,cv=10)\n",
    "random_search.fit(X_train, y_train)\n",
    "random_search.best_params_"
   ]
  },
  {
   "cell_type": "markdown",
   "metadata": {},
   "source": [
    "Note that in this case we only tested 10 values (n_iter=10), instead of the full range, and still got the same result. However, this is not guaranteed to happen. If you change the random_state to 2, you will get a different result."
   ]
  },
  {
   "cell_type": "markdown",
   "metadata": {},
   "source": [
    "Finally to get a better assessment of our model, we should use the test data. Let's check the mean squared error. Note that we could have also used, in the above exercise, instead of $R^2$, the score method as *scoring='neg_root_mean_squared_error'* to look for the model which gives the lowest mean square error (note that here the error is denoted as negative error, since scores are usually maximized, hence negative of the error is used as a score)."
   ]
  },
  {
   "cell_type": "code",
   "execution_count": null,
   "metadata": {},
   "outputs": [],
   "source": [
    "from sklearn.metrics import mean_squared_error\n",
    "y_pred = model.fit(X_train, y_train).predict(X_test)\n",
    "mean_squared_error(y_test, y_pred)"
   ]
  },
  {
   "cell_type": "markdown",
   "metadata": {},
   "source": [
    "Let's check the $R^2$"
   ]
  },
  {
   "cell_type": "code",
   "execution_count": null,
   "metadata": {},
   "outputs": [],
   "source": [
    "from sklearn.metrics import r2_score\n",
    "r2_score(y_test, y_pred)"
   ]
  },
  {
   "cell_type": "markdown",
   "metadata": {},
   "source": [
    "### Practice question\n",
    "For the first exercise, using CV find the number of neighbors that maximizes the f1 score. Then evalute this model on the independant test set."
   ]
  }
 ],
 "metadata": {
  "kernelspec": {
   "display_name": "Python [conda env:mlcourse]",
   "language": "python",
   "name": "conda-env-mlcourse-py"
  },
  "language_info": {
   "codemirror_mode": {
    "name": "ipython",
    "version": 3
   },
   "file_extension": ".py",
   "mimetype": "text/x-python",
   "name": "python",
   "nbconvert_exporter": "python",
   "pygments_lexer": "ipython3",
   "version": "3.8.5"
  }
 },
 "nbformat": 4,
 "nbformat_minor": 4
}
