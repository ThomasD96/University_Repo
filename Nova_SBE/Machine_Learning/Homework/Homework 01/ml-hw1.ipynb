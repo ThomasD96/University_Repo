{
 "cells": [
  {
   "cell_type": "markdown",
   "metadata": {},
   "source": [
    "# Machine Learning Homework 1"
   ]
  },
  {
   "cell_type": "markdown",
   "metadata": {},
   "source": [
    "## Instructions"
   ]
  },
  {
   "cell_type": "markdown",
   "metadata": {},
   "source": [
    "**Completing the homework:**  Follow along with the text and code in the notebook from start to finish.  There are two parts and 6 graded questions, worth a total of 5 points.  While some code is provided for you in the notebook, there are two types of work left for you:\n",
    "- **Tasks:** This work is meant to help you better understand the course material an will help you answer the questions.  Importantly, this work is not graded.  Tt is optional, but highly recommended.\n",
    "- **Questions:** These are the questions you need to answer and that are graded.\n",
    "    \n",
    "**How to turn in the homework**:  You need to make **two different Moodle submissions**.  First, you must open the Moodle Homework 1 Answers resources and answer the questions exactly how they correspond to those found in the Notebook (https://moodle.novasbe.pt/mod/quiz/view.php?id=194177).  Second, you must upload your notebook to the Moodle Homework 1 Notebook Upload (https://moodle.novasbe.pt/mod/assign/view.php?id=194176).\n",
    "\n",
    "This homework is due **before class on Monday, March 8.**"
   ]
  },
  {
   "cell_type": "markdown",
   "metadata": {},
   "source": [
    "## Imports\n",
    "\n",
    "Below are the all the imports you will need to complete the homework.  You may use additional libraries if you desire, but they should not be needed."
   ]
  },
  {
   "cell_type": "code",
   "execution_count": 1,
   "metadata": {},
   "outputs": [
    {
     "name": "stderr",
     "output_type": "stream",
     "text": [
      "C:\\Users\\User\\AppData\\Roaming\\Python\\Python37\\site-packages\\sklearn\\utils\\deprecation.py:144: FutureWarning: The sklearn.metrics.classification module is  deprecated in version 0.22 and will be removed in version 0.24. The corresponding classes / functions should instead be imported from sklearn.metrics. Anything that cannot be imported from sklearn.metrics is now part of the private API.\n",
      "  warnings.warn(message, FutureWarning)\n"
     ]
    }
   ],
   "source": [
    "import pandas as pd\n",
    "import numpy as np\n",
    "import seaborn as sns\n",
    "\n",
    "from sklearn.model_selection import train_test_split\n",
    "from sklearn.linear_model import LogisticRegression\n",
    "from sklearn.metrics import mean_squared_error, confusion_matrix, accuracy_score, roc_auc_score, precision_score, recall_score, f1_score, roc_curve, auc\n",
    "\n",
    "from sklearn.cluster import KMeans\n",
    "from sklearn.datasets import make_blobs\n",
    "from sklearn.preprocessing import StandardScaler\n",
    "\n",
    "from yellowbrick.cluster import KElbowVisualizer\n",
    "\n",
    "from matplotlib import pyplot as plt\n",
    "%matplotlib inline\n",
    "\n",
    "import warnings\n",
    "\n",
    "pd.set_option('display.max_columns', None)\n",
    "pd.set_option('display.max_rows', None)\n",
    "warnings.filterwarnings(\"ignore\")"
   ]
  },
  {
   "cell_type": "markdown",
   "metadata": {},
   "source": [
    "# Part 1:  Supervised Learning - Model Training and Performance"
   ]
  },
  {
   "cell_type": "markdown",
   "metadata": {},
   "source": [
    "We will now work on a machine learning problem related to student educational outcomes.  The goal of Part 1 of this  homework assignment is to build a model that can accurately predict whether or not a student will pass their final year of high school.\n",
    "\n",
    "The data we will use contains **student achievement in high school** for students enrolled in two Portuguese schools. The data features include **student grades, demographics, social and school-related features** and it was collected by using school reports and questionnaires [Cortez and Silva, 2008].  This data comes from a study carried about by Paulo Cortez at the University of Minho, located in Guimaraes, Portugal.  More information on the data and the problem can be found here:   https://www.kaggle.com/dipam7/student-grade-prediction.\n",
    "\n",
    "The **business context** of this problem is building a machine learning model that can accurately predict if a student will fail their final year of secondary education, so that they may be enrolled pre-emptively into remedial courses."
   ]
  },
  {
   "cell_type": "markdown",
   "metadata": {},
   "source": [
    "## Exploratory Data Analysis"
   ]
  },
  {
   "cell_type": "markdown",
   "metadata": {},
   "source": [
    "First, we will load in the dataset."
   ]
  },
  {
   "cell_type": "code",
   "execution_count": 2,
   "metadata": {},
   "outputs": [],
   "source": [
    "data = pd.read_csv(\"data/students_data.csv\")"
   ]
  },
  {
   "cell_type": "markdown",
   "metadata": {},
   "source": [
    "**Task:** Write some code to inspect the dataset.  How many instances are in the dataset?  How many features?"
   ]
  },
  {
   "cell_type": "code",
   "execution_count": 4,
   "metadata": {},
   "outputs": [
    {
     "data": {
      "text/html": [
       "<div>\n",
       "<style scoped>\n",
       "    .dataframe tbody tr th:only-of-type {\n",
       "        vertical-align: middle;\n",
       "    }\n",
       "\n",
       "    .dataframe tbody tr th {\n",
       "        vertical-align: top;\n",
       "    }\n",
       "\n",
       "    .dataframe thead th {\n",
       "        text-align: right;\n",
       "    }\n",
       "</style>\n",
       "<table border=\"1\" class=\"dataframe\">\n",
       "  <thead>\n",
       "    <tr style=\"text-align: right;\">\n",
       "      <th></th>\n",
       "      <th>ID</th>\n",
       "      <th>age</th>\n",
       "      <th>Medu</th>\n",
       "      <th>Fedu</th>\n",
       "      <th>traveltime</th>\n",
       "      <th>studytime</th>\n",
       "      <th>failures</th>\n",
       "      <th>famrel</th>\n",
       "      <th>freetime</th>\n",
       "      <th>goout</th>\n",
       "      <th>Dalc</th>\n",
       "      <th>Walc</th>\n",
       "      <th>health</th>\n",
       "      <th>absences</th>\n",
       "      <th>G1</th>\n",
       "      <th>G2</th>\n",
       "      <th>G3</th>\n",
       "    </tr>\n",
       "  </thead>\n",
       "  <tbody>\n",
       "    <tr>\n",
       "      <th>count</th>\n",
       "      <td>1044.000000</td>\n",
       "      <td>1044.000000</td>\n",
       "      <td>1044.000000</td>\n",
       "      <td>1044.000000</td>\n",
       "      <td>1044.000000</td>\n",
       "      <td>1044.000000</td>\n",
       "      <td>1044.000000</td>\n",
       "      <td>1044.000000</td>\n",
       "      <td>1044.000000</td>\n",
       "      <td>1044.000000</td>\n",
       "      <td>1044.000000</td>\n",
       "      <td>1044.000000</td>\n",
       "      <td>1044.000000</td>\n",
       "      <td>1044.000000</td>\n",
       "      <td>1044.000000</td>\n",
       "      <td>1044.000000</td>\n",
       "      <td>1044.000000</td>\n",
       "    </tr>\n",
       "    <tr>\n",
       "      <th>mean</th>\n",
       "      <td>547057.190613</td>\n",
       "      <td>16.726054</td>\n",
       "      <td>2.603448</td>\n",
       "      <td>2.387931</td>\n",
       "      <td>1.522989</td>\n",
       "      <td>1.970307</td>\n",
       "      <td>0.264368</td>\n",
       "      <td>3.935824</td>\n",
       "      <td>3.201149</td>\n",
       "      <td>3.156130</td>\n",
       "      <td>1.494253</td>\n",
       "      <td>2.284483</td>\n",
       "      <td>3.543103</td>\n",
       "      <td>4.434866</td>\n",
       "      <td>11.213602</td>\n",
       "      <td>11.246169</td>\n",
       "      <td>11.341954</td>\n",
       "    </tr>\n",
       "    <tr>\n",
       "      <th>std</th>\n",
       "      <td>263827.330362</td>\n",
       "      <td>1.239975</td>\n",
       "      <td>1.124907</td>\n",
       "      <td>1.099938</td>\n",
       "      <td>0.731727</td>\n",
       "      <td>0.834353</td>\n",
       "      <td>0.656142</td>\n",
       "      <td>0.933401</td>\n",
       "      <td>1.031507</td>\n",
       "      <td>1.152575</td>\n",
       "      <td>0.911714</td>\n",
       "      <td>1.285105</td>\n",
       "      <td>1.424703</td>\n",
       "      <td>6.210017</td>\n",
       "      <td>2.983394</td>\n",
       "      <td>3.285071</td>\n",
       "      <td>3.864796</td>\n",
       "    </tr>\n",
       "    <tr>\n",
       "      <th>min</th>\n",
       "      <td>100097.000000</td>\n",
       "      <td>15.000000</td>\n",
       "      <td>0.000000</td>\n",
       "      <td>0.000000</td>\n",
       "      <td>1.000000</td>\n",
       "      <td>1.000000</td>\n",
       "      <td>0.000000</td>\n",
       "      <td>1.000000</td>\n",
       "      <td>1.000000</td>\n",
       "      <td>1.000000</td>\n",
       "      <td>1.000000</td>\n",
       "      <td>1.000000</td>\n",
       "      <td>1.000000</td>\n",
       "      <td>0.000000</td>\n",
       "      <td>0.000000</td>\n",
       "      <td>0.000000</td>\n",
       "      <td>0.000000</td>\n",
       "    </tr>\n",
       "    <tr>\n",
       "      <th>25%</th>\n",
       "      <td>324017.500000</td>\n",
       "      <td>16.000000</td>\n",
       "      <td>2.000000</td>\n",
       "      <td>1.000000</td>\n",
       "      <td>1.000000</td>\n",
       "      <td>1.000000</td>\n",
       "      <td>0.000000</td>\n",
       "      <td>4.000000</td>\n",
       "      <td>3.000000</td>\n",
       "      <td>2.000000</td>\n",
       "      <td>1.000000</td>\n",
       "      <td>1.000000</td>\n",
       "      <td>3.000000</td>\n",
       "      <td>0.000000</td>\n",
       "      <td>9.000000</td>\n",
       "      <td>9.000000</td>\n",
       "      <td>10.000000</td>\n",
       "    </tr>\n",
       "    <tr>\n",
       "      <th>50%</th>\n",
       "      <td>554339.500000</td>\n",
       "      <td>17.000000</td>\n",
       "      <td>3.000000</td>\n",
       "      <td>2.000000</td>\n",
       "      <td>1.000000</td>\n",
       "      <td>2.000000</td>\n",
       "      <td>0.000000</td>\n",
       "      <td>4.000000</td>\n",
       "      <td>3.000000</td>\n",
       "      <td>3.000000</td>\n",
       "      <td>1.000000</td>\n",
       "      <td>2.000000</td>\n",
       "      <td>4.000000</td>\n",
       "      <td>2.000000</td>\n",
       "      <td>11.000000</td>\n",
       "      <td>11.000000</td>\n",
       "      <td>11.000000</td>\n",
       "    </tr>\n",
       "    <tr>\n",
       "      <th>75%</th>\n",
       "      <td>774486.000000</td>\n",
       "      <td>18.000000</td>\n",
       "      <td>4.000000</td>\n",
       "      <td>3.000000</td>\n",
       "      <td>2.000000</td>\n",
       "      <td>2.000000</td>\n",
       "      <td>0.000000</td>\n",
       "      <td>5.000000</td>\n",
       "      <td>4.000000</td>\n",
       "      <td>4.000000</td>\n",
       "      <td>2.000000</td>\n",
       "      <td>3.000000</td>\n",
       "      <td>5.000000</td>\n",
       "      <td>6.000000</td>\n",
       "      <td>13.000000</td>\n",
       "      <td>13.000000</td>\n",
       "      <td>14.000000</td>\n",
       "    </tr>\n",
       "    <tr>\n",
       "      <th>max</th>\n",
       "      <td>999194.000000</td>\n",
       "      <td>22.000000</td>\n",
       "      <td>4.000000</td>\n",
       "      <td>4.000000</td>\n",
       "      <td>4.000000</td>\n",
       "      <td>4.000000</td>\n",
       "      <td>3.000000</td>\n",
       "      <td>5.000000</td>\n",
       "      <td>5.000000</td>\n",
       "      <td>5.000000</td>\n",
       "      <td>5.000000</td>\n",
       "      <td>5.000000</td>\n",
       "      <td>5.000000</td>\n",
       "      <td>75.000000</td>\n",
       "      <td>19.000000</td>\n",
       "      <td>19.000000</td>\n",
       "      <td>20.000000</td>\n",
       "    </tr>\n",
       "  </tbody>\n",
       "</table>\n",
       "</div>"
      ],
      "text/plain": [
       "                  ID          age         Medu         Fedu   traveltime  \\\n",
       "count    1044.000000  1044.000000  1044.000000  1044.000000  1044.000000   \n",
       "mean   547057.190613    16.726054     2.603448     2.387931     1.522989   \n",
       "std    263827.330362     1.239975     1.124907     1.099938     0.731727   \n",
       "min    100097.000000    15.000000     0.000000     0.000000     1.000000   \n",
       "25%    324017.500000    16.000000     2.000000     1.000000     1.000000   \n",
       "50%    554339.500000    17.000000     3.000000     2.000000     1.000000   \n",
       "75%    774486.000000    18.000000     4.000000     3.000000     2.000000   \n",
       "max    999194.000000    22.000000     4.000000     4.000000     4.000000   \n",
       "\n",
       "         studytime     failures       famrel     freetime        goout  \\\n",
       "count  1044.000000  1044.000000  1044.000000  1044.000000  1044.000000   \n",
       "mean      1.970307     0.264368     3.935824     3.201149     3.156130   \n",
       "std       0.834353     0.656142     0.933401     1.031507     1.152575   \n",
       "min       1.000000     0.000000     1.000000     1.000000     1.000000   \n",
       "25%       1.000000     0.000000     4.000000     3.000000     2.000000   \n",
       "50%       2.000000     0.000000     4.000000     3.000000     3.000000   \n",
       "75%       2.000000     0.000000     5.000000     4.000000     4.000000   \n",
       "max       4.000000     3.000000     5.000000     5.000000     5.000000   \n",
       "\n",
       "              Dalc         Walc       health     absences           G1  \\\n",
       "count  1044.000000  1044.000000  1044.000000  1044.000000  1044.000000   \n",
       "mean      1.494253     2.284483     3.543103     4.434866    11.213602   \n",
       "std       0.911714     1.285105     1.424703     6.210017     2.983394   \n",
       "min       1.000000     1.000000     1.000000     0.000000     0.000000   \n",
       "25%       1.000000     1.000000     3.000000     0.000000     9.000000   \n",
       "50%       1.000000     2.000000     4.000000     2.000000    11.000000   \n",
       "75%       2.000000     3.000000     5.000000     6.000000    13.000000   \n",
       "max       5.000000     5.000000     5.000000    75.000000    19.000000   \n",
       "\n",
       "                G2           G3  \n",
       "count  1044.000000  1044.000000  \n",
       "mean     11.246169    11.341954  \n",
       "std       3.285071     3.864796  \n",
       "min       0.000000     0.000000  \n",
       "25%       9.000000    10.000000  \n",
       "50%      11.000000    11.000000  \n",
       "75%      13.000000    14.000000  \n",
       "max      19.000000    20.000000  "
      ]
     },
     "execution_count": 4,
     "metadata": {},
     "output_type": "execute_result"
    }
   ],
   "source": [
    "# features: 35 \n",
    "# rows: 1044\n",
    "data.describe()"
   ]
  },
  {
   "cell_type": "markdown",
   "metadata": {},
   "source": [
    "**Task:**  An important part of any machine learning task is to carry out an Exploratory Data Analysis (or EDA for short) on the data.  You should perform a number of checks, like checking for null/missing values, inspecting the distribution of different features, and performing \"sanity checks\"  to make sure the data makes sense to you.\n",
    "\n",
    "For example, the following graph shows the distribution of student's ages in the dataset:"
   ]
  },
  {
   "cell_type": "code",
   "execution_count": 8,
   "metadata": {},
   "outputs": [
    {
     "data": {
      "text/plain": [
       "<matplotlib.axes._subplots.AxesSubplot at 0x24ab782e4e0>"
      ]
     },
     "execution_count": 8,
     "metadata": {},
     "output_type": "execute_result"
    },
    {
     "data": {
      "image/png": "[encoded data removed]",
      "text/plain": [
       "<Figure size 432x288 with 1 Axes>"
      ]
     },
     "metadata": {
      "needs_background": "light"
     },
     "output_type": "display_data"
    }
   ],
   "source": [
    "sns.distplot(data.age,bins=np.arange(12,24))"
   ]
  },
  {
   "cell_type": "markdown",
   "metadata": {},
   "source": [
    "**Question (0.5 pts):**  How many missing values are there in the age feature?\n",
    "\n",
    "> a) In range `[0,10]` \\\n",
    "> b) In range `[11,20]` \\\n",
    "> c) In range `[21,30]` \\\n",
    "> d) In range `[31,40]` \\\n",
    "> e) More than `40`"
   ]
  },
  {
   "cell_type": "code",
   "execution_count": 5,
   "metadata": {},
   "outputs": [
    {
     "data": {
      "text/html": [
       "<div>\n",
       "<style scoped>\n",
       "    .dataframe tbody tr th:only-of-type {\n",
       "        vertical-align: middle;\n",
       "    }\n",
       "\n",
       "    .dataframe tbody tr th {\n",
       "        vertical-align: top;\n",
       "    }\n",
       "\n",
       "    .dataframe thead th {\n",
       "        text-align: right;\n",
       "    }\n",
       "</style>\n",
       "<table border=\"1\" class=\"dataframe\">\n",
       "  <thead>\n",
       "    <tr style=\"text-align: right;\">\n",
       "      <th></th>\n",
       "      <th>index</th>\n",
       "      <th>Total</th>\n",
       "      <th>MissingPercent</th>\n",
       "      <th>Unique</th>\n",
       "      <th>Data_Type</th>\n",
       "    </tr>\n",
       "  </thead>\n",
       "  <tbody>\n",
       "    <tr>\n",
       "      <th>22</th>\n",
       "      <td>age</td>\n",
       "      <td>0</td>\n",
       "      <td>0.0</td>\n",
       "      <td>8</td>\n",
       "      <td>int64</td>\n",
       "    </tr>\n",
       "  </tbody>\n",
       "</table>\n",
       "</div>"
      ],
      "text/plain": [
       "   index  Total  MissingPercent  Unique Data_Type\n",
       "22   age      0             0.0       8     int64"
      ]
     },
     "execution_count": 5,
     "metadata": {},
     "output_type": "execute_result"
    }
   ],
   "source": [
    "# ANSWER: a)\n",
    "def missing_data(data):\n",
    "    total = data.isnull().sum()\n",
    "    percent = (total / data.isnull().count()) * 100\n",
    "    unique = data.nunique()\n",
    "    datatype = data.dtypes\n",
    "    return pd.concat([total, percent, unique, datatype], axis=1, keys=['Total', 'MissingPercent', 'Unique', 'Data_Type']).sort_values(by = 'MissingPercent', ascending=False)\n",
    "\n",
    "missing_values = missing_data(data).reset_index()\n",
    "age_nan = missing_values[missing_values['index'] == 'age']\n",
    "age_nan"
   ]
  },
  {
   "cell_type": "markdown",
   "metadata": {},
   "source": [
    "Once EDA is complete, the dataset would have to be transformed in such a way that models can be trained and fitted to the data.  For example, categorical variables should be one-hot encoded.  One-hot encoding involves turning categorical variables into numerical binary indicators (read more here: https://scikit-learn.org/stable/modules/generated/sklearn.preprocessing.OneHotEncoder.html) - we haven't covered this in the lectures yet but we will get to it later in the semester and it will be discussed in detail.  For now, we have done that for you, and saved the transformed matrix in the file \"X.csv\".  The label has also been saved in a seperate file called \"y.csv\".  We will now load those files:"
   ]
  },
  {
   "cell_type": "code",
   "execution_count": 13,
   "metadata": {},
   "outputs": [],
   "source": [
    "X = pd.read_csv(\"matrices/X.csv\",index_col=0)\n",
    "y = pd.read_csv(\"matrices/y.csv\",index_col=0,squeeze = True)"
   ]
  },
  {
   "cell_type": "markdown",
   "metadata": {},
   "source": [
    "**Task:** Inspect the transformed matrix `X` to understand the difference between `X` and the raw data."
   ]
  },
  {
   "cell_type": "markdown",
   "metadata": {},
   "source": [
    "## Training Models"
   ]
  },
  {
   "cell_type": "markdown",
   "metadata": {},
   "source": [
    "Now we will divide the data into training and testing data using the sklearn `train_test_split` function."
   ]
  },
  {
   "cell_type": "code",
   "execution_count": 14,
   "metadata": {},
   "outputs": [],
   "source": [
    "X_train, X_test, y_train, y_test = train_test_split(X, y, test_size=0.4, random_state=42)"
   ]
  },
  {
   "cell_type": "markdown",
   "metadata": {},
   "source": [
    "And a logistic regression model will be trained (note that the model is trained using the train datasetes):"
   ]
  },
  {
   "cell_type": "code",
   "execution_count": 15,
   "metadata": {},
   "outputs": [],
   "source": [
    "clf = LogisticRegression(penalty='l1',C=0.01,solver='liblinear',random_state=42).fit(X_train, y_train)"
   ]
  },
  {
   "cell_type": "markdown",
   "metadata": {},
   "source": [
    "**Task:**  Identify the `lambda` value of this model.  Is this logistic regression model a Ridge or LASSO model?  The sklearn documentation should help you answer these questions:  https://scikit-learn.org/stable/modules/generated/sklearn.linear_model.LogisticRegression.html."
   ]
  },
  {
   "cell_type": "markdown",
   "metadata": {},
   "source": [
    "Now that a model has been trained, we can look at some performance metrics.  Here we will calculate the AUC of the model.  Note, importantly, that performance metrics are found on the *test* dataset."
   ]
  },
  {
   "cell_type": "code",
   "execution_count": 16,
   "metadata": {},
   "outputs": [
    {
     "name": "stdout",
     "output_type": "stream",
     "text": [
      "AUC: 0.5154639175257731\n"
     ]
    }
   ],
   "source": [
    "y_pred = clf.predict(X_test) # Fit the model to the test dataset\n",
    "print(\"AUC:\", roc_auc_score(y_test,y_pred)) # Find the performance metric"
   ]
  },
  {
   "cell_type": "markdown",
   "metadata": {},
   "source": [
    "**Question 2 (0.5 pts):** What is the accuracy of this model (use the `accuracy_score` function)?  What is the number of true negatives?\n",
    "\n",
    "Remember that you should check the performance of a model by predicting on the *test* dataset.\n",
    "\n",
    "> a) Accuray in range `[0.7, 0.8]`, true positive in range `[310,330]` \\\n",
    "> b) Accuray in range `[0.7, 0.8]`, true positive in range `[80,100]` \\\n",
    "> c) Accuray in range `[0.5, 0.6]`, true positive in range `[310,330]` \\\n",
    "> d) Accuray in range `[0.5, 0.6]`, true positive in range `[80,100]`"
   ]
  },
  {
   "cell_type": "code",
   "execution_count": 17,
   "metadata": {},
   "outputs": [
    {
     "data": {
      "text/plain": [
       "0.7751196172248804"
      ]
     },
     "execution_count": 17,
     "metadata": {},
     "output_type": "execute_result"
    }
   ],
   "source": [
    "accuracy = accuracy_score(y_test,y_pred)\n",
    "accuracy"
   ]
  },
  {
   "cell_type": "code",
   "execution_count": 18,
   "metadata": {},
   "outputs": [
    {
     "data": {
      "text/plain": [
       "array([[321,   0],\n",
       "       [ 94,   3]], dtype=int64)"
      ]
     },
     "execution_count": 18,
     "metadata": {},
     "output_type": "execute_result"
    }
   ],
   "source": [
    "# answer: a\n",
    "confusion_matrix(y_test, y_pred)"
   ]
  },
  {
   "cell_type": "markdown",
   "metadata": {},
   "source": [
    "**Task:** Consider the meaning of the false positive and false negatives.  What do these errors represent?"
   ]
  },
  {
   "cell_type": "markdown",
   "metadata": {},
   "source": [
    "\\textbf{--Answer:} If for example, the truth is negative, but the test predicts a positive result. The person is not sick, but the test inaccurately reports that they are."
   ]
  },
  {
   "cell_type": "markdown",
   "metadata": {},
   "source": [
    "**Task:** What is the mean squared error of the model?  Again, use the *test* dataset."
   ]
  },
  {
   "cell_type": "markdown",
   "metadata": {},
   "source": [
    "\\textbf{-- Answer:} model evaluation criteria, which measures the average of the squares of the errors—that is, the average squared difference between the estimated values and the actual value."
   ]
  },
  {
   "cell_type": "markdown",
   "metadata": {},
   "source": [
    "**Task:** Plot a ROC curve of the model.  This reference will help you: https://scikit-learn.org/stable/auto_examples/model_selection/plot_roc.html#sphx-glr-auto-examples-model-selection-plot-roc-py."
   ]
  },
  {
   "cell_type": "markdown",
   "metadata": {},
   "source": [
    "**Question 3 (1 pt):** Calculate two different AUC values:  one for only the students living in rural areas, and one only for students living in urban areas (use the variable `address_urban`).  Which has a larger AUC?  What does this difference in AUC mean?\n",
    "\n",
    "**Again**, remember to use the *test* dataset.  Note:  you are using the same model as for the total AUC and the accuacy.\n",
    "\n",
    "> a) The AUC is higher for urban students.  This means that the model is better performing for urban students.\\\n",
    "> b) The AUC is lower for urban students.  This means that the model is better performing for urban students.\\\n",
    "> c) The AUC is higher for urban students.  This means that the model is worse performing for urban students.\\\n",
    "> d) The AUC is lower for urban students.  This means that the model is worse performing for urban students.\\\n",
    "> e) The AUC is the exact same for both groups."
   ]
  },
  {
   "cell_type": "code",
   "execution_count": 6,
   "metadata": {},
   "outputs": [],
   "source": [
    "# ANSWER: a)\n",
    "# merge X and y dataset\n",
    "df = pd.concat([X, y], axis=1)"
   ]
  },
  {
   "cell_type": "code",
   "execution_count": 7,
   "metadata": {},
   "outputs": [],
   "source": [
    "# Students living in rural areas: address_urban == 0\n",
    "# Students living in urban areas: address_urban == 1\n",
    "X_rural = df[df['address_urban'] == 0]\n",
    "y_rural = X_rural[['G3']]\n",
    "X_urban = df[df['address_urban'] == 1]\n",
    "y_urban = X_urban[['G3']]"
   ]
  },
  {
   "cell_type": "code",
   "execution_count": 8,
   "metadata": {},
   "outputs": [],
   "source": [
    "X_train_rural, X_test_rural, y_train_rural, y_test_rural = train_test_split(X_rural, y_rural, test_size=0.4, random_state=42)\n",
    "X_train_urban, X_test_urban, y_train_urban, y_test_urban = train_test_split(X_urban, y_urban, test_size=0.4, random_state=42)"
   ]
  },
  {
   "cell_type": "code",
   "execution_count": 9,
   "metadata": {},
   "outputs": [],
   "source": [
    "clf_rural = LogisticRegression(penalty='l1',C=0.01,solver='liblinear',random_state=42).fit(X_train_rural, y_train_rural)\n",
    "clf_urban = LogisticRegression(penalty='l1',C=0.01,solver='liblinear',random_state=42).fit(X_train_urban, y_train_urban)"
   ]
  },
  {
   "cell_type": "code",
   "execution_count": 10,
   "metadata": {},
   "outputs": [],
   "source": [
    "y_pred_rural = clf_rural.predict(X_test_rural)\n",
    "y_pred_urban = clf_urban.predict(X_test_urban)"
   ]
  },
  {
   "cell_type": "code",
   "execution_count": 11,
   "metadata": {},
   "outputs": [
    {
     "name": "stdout",
     "output_type": "stream",
     "text": [
      "AUC for rural: 0.5\n"
     ]
    }
   ],
   "source": [
    "print(\"AUC for rural:\", roc_auc_score(y_test_rural, y_pred_rural))"
   ]
  },
  {
   "cell_type": "code",
   "execution_count": 12,
   "metadata": {},
   "outputs": [
    {
     "name": "stdout",
     "output_type": "stream",
     "text": [
      "AUC for urban: 0.5109498344792462\n"
     ]
    }
   ],
   "source": [
    "print(\"AUC for urban:\", roc_auc_score(y_test_urban, y_pred_urban))"
   ]
  },
  {
   "cell_type": "markdown",
   "metadata": {},
   "source": [
    "**Task:** Do the same for gender."
   ]
  },
  {
   "cell_type": "markdown",
   "metadata": {},
   "source": [
    "**Quesion 4 (1 pt):**  Train 4 new models.  Two LASSO models with `lambda` values of `1.0` and `0.001`, and two Ridge models with the same set of `lambda` values.  Find the accuracy score of all these models.  Which combination of hyperparemeters of these 4 models has the highest performance?\n",
    "\n",
    "**IMPORTANT:** Train all of your models with the parameter `random_state=42` and `solver='liblinear'` like we did earlier in the Notebook.  Train the models using the *train* dataset, and find the accuracy using the *test* dataset.\n",
    "\n",
    "> a) `penalty=l1`,`C=1.0` \\\n",
    "> b) `penalty=l1`,`C=0.001` \\\n",
    "> c) `penalty=l2`,`C=1.0` \\\n",
    "> d) `penalty=l2`,`C=0.001`"
   ]
  },
  {
   "cell_type": "code",
   "execution_count": 6,
   "metadata": {},
   "outputs": [],
   "source": [
    "lr_lasso_1 = LogisticRegression(penalty='l1',C=1,solver='liblinear',random_state=42).fit(X_train, y_train)\n",
    "lr_lasso_2 = LogisticRegression(penalty='l1',C=0.001,solver='liblinear',random_state=42).fit(X_train, y_train)\n",
    "lr_ridge_1 = LogisticRegression(penalty='l2',C=1,solver='liblinear',random_state=42).fit(X_train, y_train)\n",
    "lr_ridge_2 = LogisticRegression(penalty='l2',C=0.001,solver='liblinear',random_state=42).fit(X_train, y_train)\n",
    "models = [lr_lasso_1, lr_lasso_2, lr_ridge_1, lr_ridge_2]\n",
    "\n",
    "def classification_report (model_list):\n",
    "    \n",
    "    # create empty lists\n",
    "    model_names = []\n",
    "    accuracy_results = []\n",
    "    precision_results = []\n",
    "    recall_results = []\n",
    "    f1score_results = []\n",
    "    rocauc_results = []\n",
    "    \n",
    "    # create ML-metrics\n",
    "    for model in model_list:\n",
    "        model.fit(X_train, y_train)\n",
    "        y_pred  = model.predict(X_test)\n",
    "        accuracy     = accuracy_score(y_test, y_pred)\n",
    "        precision    = precision_score(y_test, y_pred)\n",
    "        recall       = recall_score(y_test, y_pred)\n",
    "        f1score      = f1_score(y_test, y_pred) \n",
    "        rocauc       = roc_auc_score(y_test, y_pred)\n",
    "        \n",
    "        # append results into lists\n",
    "        model_names.append(model)\n",
    "        accuracy_results.append(accuracy)\n",
    "        precision_results.append(precision)\n",
    "        recall_results.append(recall)\n",
    "        f1score_results.append(f1score)\n",
    "        rocauc_results.append(rocauc)\n",
    "    \n",
    "    # make pandas-DF for final results\n",
    "    df_models = pd.DataFrame(list(zip(model_names, accuracy_results, precision_results, recall_results, f1score_results, rocauc_results)))\n",
    "    df_models.columns = ['models', 'accuracy', 'precision', 'recall', 'f1_score', 'rocauc']\n",
    "    \n",
    "    # order results based on highest F1-score\n",
    "    df_models = df_models.sort_values(by='f1_score', ascending=False)\n",
    "    return df_models"
   ]
  },
  {
   "cell_type": "code",
   "execution_count": 7,
   "metadata": {},
   "outputs": [
    {
     "data": {
      "text/html": [
       "<div>\n",
       "<style scoped>\n",
       "    .dataframe tbody tr th:only-of-type {\n",
       "        vertical-align: middle;\n",
       "    }\n",
       "\n",
       "    .dataframe tbody tr th {\n",
       "        vertical-align: top;\n",
       "    }\n",
       "\n",
       "    .dataframe thead th {\n",
       "        text-align: right;\n",
       "    }\n",
       "</style>\n",
       "<table border=\"1\" class=\"dataframe\">\n",
       "  <thead>\n",
       "    <tr style=\"text-align: right;\">\n",
       "      <th></th>\n",
       "      <th>models</th>\n",
       "      <th>accuracy</th>\n",
       "      <th>precision</th>\n",
       "      <th>recall</th>\n",
       "      <th>f1_score</th>\n",
       "      <th>rocauc</th>\n",
       "    </tr>\n",
       "  </thead>\n",
       "  <tbody>\n",
       "    <tr>\n",
       "      <th>0</th>\n",
       "      <td>LogisticRegression(C=1, class_weight=None, dua...</td>\n",
       "      <td>0.875598</td>\n",
       "      <td>0.846154</td>\n",
       "      <td>0.567010</td>\n",
       "      <td>0.679012</td>\n",
       "      <td>0.767929</td>\n",
       "    </tr>\n",
       "    <tr>\n",
       "      <th>2</th>\n",
       "      <td>LogisticRegression(C=1, class_weight=None, dua...</td>\n",
       "      <td>0.870813</td>\n",
       "      <td>0.830769</td>\n",
       "      <td>0.556701</td>\n",
       "      <td>0.666667</td>\n",
       "      <td>0.761217</td>\n",
       "    </tr>\n",
       "    <tr>\n",
       "      <th>3</th>\n",
       "      <td>LogisticRegression(C=0.001, class_weight=None,...</td>\n",
       "      <td>0.779904</td>\n",
       "      <td>1.000000</td>\n",
       "      <td>0.051546</td>\n",
       "      <td>0.098039</td>\n",
       "      <td>0.525773</td>\n",
       "    </tr>\n",
       "    <tr>\n",
       "      <th>1</th>\n",
       "      <td>LogisticRegression(C=0.001, class_weight=None,...</td>\n",
       "      <td>0.767943</td>\n",
       "      <td>0.000000</td>\n",
       "      <td>0.000000</td>\n",
       "      <td>0.000000</td>\n",
       "      <td>0.500000</td>\n",
       "    </tr>\n",
       "  </tbody>\n",
       "</table>\n",
       "</div>"
      ],
      "text/plain": [
       "                                              models  accuracy  precision  \\\n",
       "0  LogisticRegression(C=1, class_weight=None, dua...  0.875598   0.846154   \n",
       "2  LogisticRegression(C=1, class_weight=None, dua...  0.870813   0.830769   \n",
       "3  LogisticRegression(C=0.001, class_weight=None,...  0.779904   1.000000   \n",
       "1  LogisticRegression(C=0.001, class_weight=None,...  0.767943   0.000000   \n",
       "\n",
       "     recall  f1_score    rocauc  \n",
       "0  0.567010  0.679012  0.767929  \n",
       "2  0.556701  0.666667  0.761217  \n",
       "3  0.051546  0.098039  0.525773  \n",
       "1  0.000000  0.000000  0.500000  "
      ]
     },
     "execution_count": 7,
     "metadata": {},
     "output_type": "execute_result"
    }
   ],
   "source": [
    "# best model: Logistic Regression (L1) with lambda = 1 basded on f1_score --- > # ANSWER: a)\n",
    "df_final = classification_report(models)\n",
    "df_final"
   ]
  },
  {
   "cell_type": "markdown",
   "metadata": {},
   "source": [
    "# Part 2: Unsupervised Learning - Clustering"
   ]
  },
  {
   "cell_type": "markdown",
   "metadata": {},
   "source": [
    "We are going to import our data.  Unlike the last problem, here we will give you absolutely no context for the data.  It might be student data, it might be rocket telemetry data, or it might just be noise."
   ]
  },
  {
   "cell_type": "code",
   "execution_count": 50,
   "metadata": {},
   "outputs": [],
   "source": [
    "X = pd.read_csv('data/clusters.csv', header=None)"
   ]
  },
  {
   "cell_type": "markdown",
   "metadata": {},
   "source": [
    "**Task:** Inspect the data.  What can you infer, if anything, from the data?"
   ]
  },
  {
   "cell_type": "code",
   "execution_count": 51,
   "metadata": {},
   "outputs": [
    {
     "data": {
      "text/html": [
       "<div>\n",
       "<style scoped>\n",
       "    .dataframe tbody tr th:only-of-type {\n",
       "        vertical-align: middle;\n",
       "    }\n",
       "\n",
       "    .dataframe tbody tr th {\n",
       "        vertical-align: top;\n",
       "    }\n",
       "\n",
       "    .dataframe thead th {\n",
       "        text-align: right;\n",
       "    }\n",
       "</style>\n",
       "<table border=\"1\" class=\"dataframe\">\n",
       "  <thead>\n",
       "    <tr style=\"text-align: right;\">\n",
       "      <th></th>\n",
       "      <th>0</th>\n",
       "      <th>1</th>\n",
       "      <th>2</th>\n",
       "      <th>3</th>\n",
       "    </tr>\n",
       "  </thead>\n",
       "  <tbody>\n",
       "    <tr>\n",
       "      <th>0</th>\n",
       "      <td>2.213399</td>\n",
       "      <td>4.207888</td>\n",
       "      <td>-10.948166</td>\n",
       "      <td>10.144451</td>\n",
       "    </tr>\n",
       "    <tr>\n",
       "      <th>1</th>\n",
       "      <td>6.401675</td>\n",
       "      <td>-6.435202</td>\n",
       "      <td>-7.365121</td>\n",
       "      <td>-6.613010</td>\n",
       "    </tr>\n",
       "    <tr>\n",
       "      <th>2</th>\n",
       "      <td>1.587804</td>\n",
       "      <td>3.852279</td>\n",
       "      <td>-9.366176</td>\n",
       "      <td>8.919448</td>\n",
       "    </tr>\n",
       "    <tr>\n",
       "      <th>3</th>\n",
       "      <td>-2.295104</td>\n",
       "      <td>7.768547</td>\n",
       "      <td>4.813060</td>\n",
       "      <td>2.358487</td>\n",
       "    </tr>\n",
       "    <tr>\n",
       "      <th>4</th>\n",
       "      <td>4.955896</td>\n",
       "      <td>-5.851557</td>\n",
       "      <td>-7.352092</td>\n",
       "      <td>-7.435499</td>\n",
       "    </tr>\n",
       "  </tbody>\n",
       "</table>\n",
       "</div>"
      ],
      "text/plain": [
       "          0         1          2          3\n",
       "0  2.213399  4.207888 -10.948166  10.144451\n",
       "1  6.401675 -6.435202  -7.365121  -6.613010\n",
       "2  1.587804  3.852279  -9.366176   8.919448\n",
       "3 -2.295104  7.768547   4.813060   2.358487\n",
       "4  4.955896 -5.851557  -7.352092  -7.435499"
      ]
     },
     "execution_count": 51,
     "metadata": {},
     "output_type": "execute_result"
    }
   ],
   "source": [
    "X.head()"
   ]
  },
  {
   "cell_type": "markdown",
   "metadata": {},
   "source": [
    "When looking at clustering examples in class, our data normally had just one, two, or three features.  This was very convenient because we could plot the data to try and visually identify the number of clusters in the data.  Recall that with one feature we could plot the data along a line, with two features we could plot the data on a normal `x,y`-graph to try and identify groups of points, and with three features we could add a `z` axis and do the same in 3-dimensional space.\n",
    "\n",
    "Unfortunately for us, the data has 4 features.  This means that the data is in \"4-dimensional\" space, and we can't just plot it to see the number of clusters.\n",
    "\n",
    "However, there are some things we can do to get an idea of the data.  For example, we can plot a distribution of just a single feature:"
   ]
  },
  {
   "cell_type": "code",
   "execution_count": 22,
   "metadata": {},
   "outputs": [
    {
     "data": {
      "text/plain": [
       "<matplotlib.axes._subplots.AxesSubplot at 0x280eaa9da90>"
      ]
     },
     "execution_count": 22,
     "metadata": {},
     "output_type": "execute_result"
    },
    {
     "data": {
      "image/png": "[encoded data removed]",
      "text/plain": [
       "<Figure size 432x288 with 1 Axes>"
      ]
     },
     "metadata": {
      "needs_background": "light"
     },
     "output_type": "display_data"
    }
   ],
   "source": [
    "sns.distplot(X[1])"
   ]
  },
  {
   "cell_type": "markdown",
   "metadata": {},
   "source": [
    "**Task:** Do a general inspection of the values of the features of the data.  Do each of the features have similiar distributions?  What if you create `x,y` plots for combinations of two of the features?  The same for `x,y,z` plots for combinations of three of the features?  Try and gain an intuition of how the data is distributed."
   ]
  },
  {
   "cell_type": "code",
   "execution_count": 26,
   "metadata": {},
   "outputs": [
    {
     "data": {
      "image/png": "[encoded data removed]",
      "text/plain": [
       "<Figure size 432x288 with 1 Axes>"
      ]
     },
     "metadata": {
      "needs_background": "light"
     },
     "output_type": "display_data"
    },
    {
     "data": {
      "image/png": "[encoded data removed]",
      "text/plain": [
       "<Figure size 432x288 with 1 Axes>"
      ]
     },
     "metadata": {
      "needs_background": "light"
     },
     "output_type": "display_data"
    },
    {
     "data": {
      "image/png": "[encoded data removed]",
      "text/plain": [
       "<Figure size 432x288 with 1 Axes>"
      ]
     },
     "metadata": {
      "needs_background": "light"
     },
     "output_type": "display_data"
    },
    {
     "data": {
      "image/png": "[encoded data removed]",
      "text/plain": [
       "<Figure size 432x288 with 1 Axes>"
      ]
     },
     "metadata": {
      "needs_background": "light"
     },
     "output_type": "display_data"
    }
   ],
   "source": [
    "for i in range(0, len(X.columns)):\n",
    "    plot = sns.distplot(X[i])\n",
    "    plt.show()"
   ]
  },
  {
   "cell_type": "markdown",
   "metadata": {},
   "source": [
    "**Task:** Now it is time to use an unsupervised method to find the number of clusters in the data.  Here we are asking you to use the KMeans clustering method in conjuction with the Elbow method to try and identify how many clusters are in the data.  You can use the implementation from the notebook related class 3.  Alternatively, the following documentation should be helpful: https://www.scikit-yb.org/en/latest/api/cluster/elbow.html.\n",
    "\n",
    "Try not to just copy and paste code.  Think about what the code means, and importantly, think about what the elbow plot means.  What is the x-axis?  What is the y-axis?  Why does it look the way it does?"
   ]
  },
  {
   "cell_type": "markdown",
   "metadata": {},
   "source": [
    "**Quesion 5 (1 pt):**  How many clusters are there in the data?\n",
    "\n",
    "> a) `2` \\\n",
    "> b) `3` \\\n",
    "> c) `4` \\\n",
    "> d) `5`"
   ]
  },
  {
   "cell_type": "code",
   "execution_count": 43,
   "metadata": {},
   "outputs": [],
   "source": [
    "# ANSWER: c)\n",
    "features = X.values"
   ]
  },
  {
   "cell_type": "code",
   "execution_count": 44,
   "metadata": {},
   "outputs": [],
   "source": [
    "scaler = StandardScaler()\n",
    "scaled_features = scaler.fit_transform(features)"
   ]
  },
  {
   "cell_type": "code",
   "execution_count": 45,
   "metadata": {},
   "outputs": [
    {
     "data": {
      "image/png": "[encoded data removed]",
      "text/plain": [
       "<Figure size 432x288 with 1 Axes>"
      ]
     },
     "metadata": {
      "needs_background": "light"
     },
     "output_type": "display_data"
    }
   ],
   "source": [
    "plt.rcParams['axes.facecolor'] = 'white'\n",
    "plt.figure(1)\n",
    "plt.scatter(features[:, 0], features[:, 1], s=15) \n",
    "plt.title(\"Number of clusters\", size = 15)\n",
    "plt.show()"
   ]
  },
  {
   "cell_type": "code",
   "execution_count": 56,
   "metadata": {},
   "outputs": [
    {
     "data": {
      "image/png": "[encoded data removed]",
      "text/plain": [
       "<Figure size 432x288 with 2 Axes>"
      ]
     },
     "metadata": {},
     "output_type": "display_data"
    },
    {
     "data": {
      "text/plain": [
       "<matplotlib.axes._subplots.AxesSubplot at 0x1d50b90d080>"
      ]
     },
     "execution_count": 56,
     "metadata": {},
     "output_type": "execute_result"
    }
   ],
   "source": [
    "plt.rcParams['axes.facecolor'] = 'white'\n",
    "visualizer = KElbowVisualizer(kmeans, k=(1,12))\n",
    "visualizer.fit(features)\n",
    "visualizer.show()"
   ]
  },
  {
   "cell_type": "code",
   "execution_count": 59,
   "metadata": {},
   "outputs": [],
   "source": [
    "kmeans = KMeans(\n",
    "           init=\"k-means++\",\n",
    "           n_clusters=4,\n",
    "           n_init=10,\n",
    "           max_iter=300,\n",
    "           random_state=42\n",
    " )"
   ]
  },
  {
   "cell_type": "code",
   "execution_count": 60,
   "metadata": {},
   "outputs": [
    {
     "data": {
      "text/plain": [
       "KMeans(algorithm='auto', copy_x=True, init='k-means++', max_iter=300,\n",
       "       n_clusters=4, n_init=10, n_jobs=None, precompute_distances='auto',\n",
       "       random_state=42, tol=0.0001, verbose=0)"
      ]
     },
     "execution_count": 60,
     "metadata": {},
     "output_type": "execute_result"
    }
   ],
   "source": [
    "kmeans.fit(scaled_features)"
   ]
  },
  {
   "cell_type": "code",
   "execution_count": 68,
   "metadata": {},
   "outputs": [
    {
     "data": {
      "image/png": "[encoded data removed]",
      "text/plain": [
       "<Figure size 432x288 with 1 Axes>"
      ]
     },
     "metadata": {
      "needs_background": "light"
     },
     "output_type": "display_data"
    }
   ],
   "source": [
    "plt.rcParams['axes.facecolor'] = 'wheat'\n",
    "plt.figure(1)\n",
    "plt.scatter(scaled_features[:, 0], scaled_features[:, 1], s=15, c=kmeans.labels_) \n",
    "centers = kmeans.cluster_centers_\n",
    "plt.scatter(centers[:, 0], centers[:, 1], c='red', s=60, alpha=1, marker='*')\n",
    "plt.title(\"clusters found by kmeans\")\n",
    "plt.show()"
   ]
  },
  {
   "cell_type": "markdown",
   "metadata": {},
   "source": [
    "**Question 6 (1 pt):**  Fit a KMeans model to the data with the correct number of clusters.  Which cluster is the data point `[-9,-9,-9,-9]` in?\n",
    "\n",
    "You may find the following documnetation helpful:  https://scikit-learn.org/stable/modules/generated/sklearn.cluster.KMeans.html.\n",
    "\n",
    "**IMPORTANT:** Use the method from sk-learn (see link above) and the parameter `random_state=42` when fitting your KMeans model.\n",
    "\n",
    "> a) `0` \\\n",
    "> b) `1` \\\n",
    "> c) `2` \\\n",
    "> d) `3` \\\n",
    "> e) `4` "
   ]
  },
  {
   "cell_type": "code",
   "execution_count": 62,
   "metadata": {},
   "outputs": [
    {
     "data": {
      "text/plain": [
       "array([0])"
      ]
     },
     "execution_count": 62,
     "metadata": {},
     "output_type": "execute_result"
    }
   ],
   "source": [
    "# ANSWER: a)\n",
    "points = [-9,-9,-9,-9]\n",
    "kmeans.predict([points])"
   ]
  }
 ],
 "metadata": {
  "hide_input": false,
  "kernelspec": {
   "display_name": "Python 3",
   "language": "python",
   "name": "python3"
  },
  "language_info": {
   "codemirror_mode": {
    "name": "ipython",
    "version": 3
   },
   "file_extension": ".py",
   "mimetype": "text/x-python",
   "name": "python",
   "nbconvert_exporter": "python",
   "pygments_lexer": "ipython3",
   "version": "3.7.3"
  },
  "latex_envs": {
   "LaTeX_envs_menu_present": true,
   "autoclose": false,
   "autocomplete": true,
   "bibliofile": "biblio.bib",
   "cite_by": "apalike",
   "current_citInitial": 1,
   "eqLabelWithNumbers": true,
   "eqNumInitial": 1,
   "hotkeys": {
    "equation": "Ctrl-E",
    "itemize": "Ctrl-I"
   },
   "labels_anchors": false,
   "latex_user_defs": false,
   "report_style_numbering": false,
   "user_envs_cfg": false
  },
  "varInspector": {
   "cols": {
    "lenName": 16,
    "lenType": 16,
    "lenVar": 40
   },
   "kernels_config": {
    "python": {
     "delete_cmd_postfix": "",
     "delete_cmd_prefix": "del ",
     "library": "var_list.py",
     "varRefreshCmd": "print(var_dic_list())"
    },
    "r": {
     "delete_cmd_postfix": ") ",
     "delete_cmd_prefix": "rm(",
     "library": "var_list.r",
     "varRefreshCmd": "cat(var_dic_list()) "
    }
   },
   "types_to_exclude": [
    "module",
    "function",
    "builtin_function_or_method",
    "instance",
    "_Feature"
   ],
   "window_display": false
  }
 },
 "nbformat": 4,
 "nbformat_minor": 4
}
