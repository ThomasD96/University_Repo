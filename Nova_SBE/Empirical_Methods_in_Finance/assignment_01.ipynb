{
 "cells": [
  {
   "cell_type": "code",
   "execution_count": 2,
   "metadata": {},
   "outputs": [],
   "source": [
    "import pandas as pd\n",
    "import numpy as np\n",
    "import matplotlib.pyplot as plt\n",
    "import scipy as sp\n",
    "import statsmodels.api as sm\n",
    "from statsmodels.formula.api import ols\n",
    "import statsmodels.formula.api as smf\n",
    "import warnings\n",
    "import seaborn as sns\n",
    "sns.set(style=\"whitegrid\")\n",
    "warnings.filterwarnings(\"ignore\")"
   ]
  },
  {
   "cell_type": "code",
   "execution_count": 4,
   "metadata": {},
   "outputs": [],
   "source": [
    "df_1 = pd.read_csv('data/ibes_2019.csv', index_col = [0]) # 157.932 rows\n",
    "df_2 = pd.read_csv('data/crsp_daily_2019.csv', index_col = [0]) # 1.902.952 rows\n",
    "df = pd.read_csv('data_after_1e.csv', index_col = [0]) # 121.326 rows"
   ]
  },
  {
   "cell_type": "markdown",
   "metadata": {
    "heading_collapsed": true
   },
   "source": [
    "## 1. Basic data manipulation (25%)"
   ]
  },
  {
   "cell_type": "markdown",
   "metadata": {
    "heading_collapsed": true,
    "hidden": true
   },
   "source": [
    "#### a) Briefly describe the structure of the data. What is the smallest unit of observation?"
   ]
  },
  {
   "cell_type": "code",
   "execution_count": 5,
   "metadata": {
    "hidden": true,
    "scrolled": true
   },
   "outputs": [
    {
     "data": {
      "text/html": [
       "<div>\n",
       "<style scoped>\n",
       "    .dataframe tbody tr th:only-of-type {\n",
       "        vertical-align: middle;\n",
       "    }\n",
       "\n",
       "    .dataframe tbody tr th {\n",
       "        vertical-align: top;\n",
       "    }\n",
       "\n",
       "    .dataframe thead th {\n",
       "        text-align: right;\n",
       "    }\n",
       "</style>\n",
       "<table border=\"1\" class=\"dataframe\">\n",
       "  <thead>\n",
       "    <tr style=\"text-align: right;\">\n",
       "      <th></th>\n",
       "      <th>estimator</th>\n",
       "      <th>analys</th>\n",
       "      <th>value</th>\n",
       "      <th>actual</th>\n",
       "      <th>permno</th>\n",
       "    </tr>\n",
       "  </thead>\n",
       "  <tbody>\n",
       "    <tr>\n",
       "      <th>count</th>\n",
       "      <td>157932.000000</td>\n",
       "      <td>157932.000000</td>\n",
       "      <td>157932.000000</td>\n",
       "      <td>157932.000000</td>\n",
       "      <td>157932.000000</td>\n",
       "    </tr>\n",
       "    <tr>\n",
       "      <th>mean</th>\n",
       "      <td>1229.519793</td>\n",
       "      <td>110569.194141</td>\n",
       "      <td>3.397169</td>\n",
       "      <td>3.423618</td>\n",
       "      <td>52751.972931</td>\n",
       "    </tr>\n",
       "    <tr>\n",
       "      <th>std</th>\n",
       "      <td>1317.160204</td>\n",
       "      <td>48965.960280</td>\n",
       "      <td>4.929264</td>\n",
       "      <td>5.221311</td>\n",
       "      <td>32979.683319</td>\n",
       "    </tr>\n",
       "    <tr>\n",
       "      <th>min</th>\n",
       "      <td>11.000000</td>\n",
       "      <td>0.000000</td>\n",
       "      <td>-9.880000</td>\n",
       "      <td>-13.630000</td>\n",
       "      <td>10026.000000</td>\n",
       "    </tr>\n",
       "    <tr>\n",
       "      <th>25%</th>\n",
       "      <td>171.000000</td>\n",
       "      <td>77712.000000</td>\n",
       "      <td>0.830000</td>\n",
       "      <td>0.860000</td>\n",
       "      <td>15642.000000</td>\n",
       "    </tr>\n",
       "    <tr>\n",
       "      <th>50%</th>\n",
       "      <td>464.000000</td>\n",
       "      <td>114862.500000</td>\n",
       "      <td>2.443000</td>\n",
       "      <td>2.450000</td>\n",
       "      <td>60943.000000</td>\n",
       "    </tr>\n",
       "    <tr>\n",
       "      <th>75%</th>\n",
       "      <td>2394.000000</td>\n",
       "      <td>147221.000000</td>\n",
       "      <td>4.870000</td>\n",
       "      <td>4.990000</td>\n",
       "      <td>86072.000000</td>\n",
       "    </tr>\n",
       "    <tr>\n",
       "      <th>max</th>\n",
       "      <td>4390.000000</td>\n",
       "      <td>193808.000000</td>\n",
       "      <td>28.860000</td>\n",
       "      <td>29.940000</td>\n",
       "      <td>93436.000000</td>\n",
       "    </tr>\n",
       "  </tbody>\n",
       "</table>\n",
       "</div>"
      ],
      "text/plain": [
       "           estimator         analys          value         actual  \\\n",
       "count  157932.000000  157932.000000  157932.000000  157932.000000   \n",
       "mean     1229.519793  110569.194141       3.397169       3.423618   \n",
       "std      1317.160204   48965.960280       4.929264       5.221311   \n",
       "min        11.000000       0.000000      -9.880000     -13.630000   \n",
       "25%       171.000000   77712.000000       0.830000       0.860000   \n",
       "50%       464.000000  114862.500000       2.443000       2.450000   \n",
       "75%      2394.000000  147221.000000       4.870000       4.990000   \n",
       "max      4390.000000  193808.000000      28.860000      29.940000   \n",
       "\n",
       "              permno  \n",
       "count  157932.000000  \n",
       "mean    52751.972931  \n",
       "std     32979.683319  \n",
       "min     10026.000000  \n",
       "25%     15642.000000  \n",
       "50%     60943.000000  \n",
       "75%     86072.000000  \n",
       "max     93436.000000  "
      ]
     },
     "execution_count": 5,
     "metadata": {},
     "output_type": "execute_result"
    }
   ],
   "source": [
    "df_1.describe()"
   ]
  },
  {
   "cell_type": "markdown",
   "metadata": {
    "heading_collapsed": true,
    "hidden": true
   },
   "source": [
    "#### b) Rename anndats_act as date, then merge (m:1) ibes_2019.dta to (using) crsp_daily 2019.dta. Keep only the observations that are successfully merged. Compute companies' market capitalization (mktcap)."
   ]
  },
  {
   "cell_type": "code",
   "execution_count": 6,
   "metadata": {
    "hidden": true
   },
   "outputs": [],
   "source": [
    "df_1.rename(columns = {'anndats_act':'date'}, inplace = True)\n",
    "df = pd.merge(df_1, df_2, on=['permno', 'date'], how='inner')\n",
    "df['mktcap'] = df['shrout'] * df['prc']"
   ]
  },
  {
   "cell_type": "code",
   "execution_count": 8,
   "metadata": {
    "hidden": true
   },
   "outputs": [],
   "source": [
    "def missing_statistics(df):\n",
    "    '''\n",
    "        Calculates missing value statistics for a given dataframe and\n",
    "        returns a dataframe containing number of missing values per column\n",
    "        and the percentage of values missing per column.\n",
    "        arguments:\n",
    "            df: the dataframe for which missing values need to be calculated.\n",
    "    '''\n",
    "    missing_stats = df.isnull().sum().to_frame()\n",
    "    missing_stats.columns = ['num_missing']\n",
    "    missing_stats['pct_missing'] = round(100 * (missing_stats['num_missing'] / df.shape[0]),2)\n",
    "    missing_stats.sort_values(by='num_missing', ascending=False, inplace=True)\n",
    "\n",
    "    return missing_stats"
   ]
  },
  {
   "cell_type": "code",
   "execution_count": 9,
   "metadata": {
    "hidden": true
   },
   "outputs": [
    {
     "data": {
      "text/html": [
       "<div>\n",
       "<style scoped>\n",
       "    .dataframe tbody tr th:only-of-type {\n",
       "        vertical-align: middle;\n",
       "    }\n",
       "\n",
       "    .dataframe tbody tr th {\n",
       "        vertical-align: top;\n",
       "    }\n",
       "\n",
       "    .dataframe thead th {\n",
       "        text-align: right;\n",
       "    }\n",
       "</style>\n",
       "<table border=\"1\" class=\"dataframe\">\n",
       "  <thead>\n",
       "    <tr style=\"text-align: right;\">\n",
       "      <th></th>\n",
       "      <th>siccd</th>\n",
       "      <th>prc</th>\n",
       "      <th>mktcap</th>\n",
       "      <th>estimator</th>\n",
       "      <th>analys</th>\n",
       "      <th>value</th>\n",
       "      <th>anndats</th>\n",
       "      <th>actual</th>\n",
       "      <th>date</th>\n",
       "      <th>permno</th>\n",
       "      <th>shrout</th>\n",
       "    </tr>\n",
       "  </thead>\n",
       "  <tbody>\n",
       "    <tr>\n",
       "      <th>num_missing</th>\n",
       "      <td>65.00</td>\n",
       "      <td>1.0</td>\n",
       "      <td>1.0</td>\n",
       "      <td>0.0</td>\n",
       "      <td>0.0</td>\n",
       "      <td>0.0</td>\n",
       "      <td>0.0</td>\n",
       "      <td>0.0</td>\n",
       "      <td>0.0</td>\n",
       "      <td>0.0</td>\n",
       "      <td>0.0</td>\n",
       "    </tr>\n",
       "    <tr>\n",
       "      <th>pct_missing</th>\n",
       "      <td>0.04</td>\n",
       "      <td>0.0</td>\n",
       "      <td>0.0</td>\n",
       "      <td>0.0</td>\n",
       "      <td>0.0</td>\n",
       "      <td>0.0</td>\n",
       "      <td>0.0</td>\n",
       "      <td>0.0</td>\n",
       "      <td>0.0</td>\n",
       "      <td>0.0</td>\n",
       "      <td>0.0</td>\n",
       "    </tr>\n",
       "  </tbody>\n",
       "</table>\n",
       "</div>"
      ],
      "text/plain": [
       "             siccd  prc  mktcap  estimator  analys  value  anndats  actual  \\\n",
       "num_missing  65.00  1.0     1.0        0.0     0.0    0.0      0.0     0.0   \n",
       "pct_missing   0.04  0.0     0.0        0.0     0.0    0.0      0.0     0.0   \n",
       "\n",
       "             date  permno  shrout  \n",
       "num_missing   0.0     0.0     0.0  \n",
       "pct_missing   0.0     0.0     0.0  "
      ]
     },
     "execution_count": 9,
     "metadata": {},
     "output_type": "execute_result"
    }
   ],
   "source": [
    "missing_statistics(df).T"
   ]
  },
  {
   "cell_type": "markdown",
   "metadata": {
    "heading_collapsed": true,
    "hidden": true
   },
   "source": [
    "#### c) Compute the consensus forecast (consensus), defined as the median forecast across analysists, and the standard deviation of the forecasts (dispersion). Then, compute the following two measures of forecast accuracy - fe and fd. "
   ]
  },
  {
   "cell_type": "code",
   "execution_count": 10,
   "metadata": {
    "hidden": true
   },
   "outputs": [],
   "source": [
    "# compute consensus\n",
    "df_agg_consensus_median = df.groupby(['permno'])[['value']].median().reset_index()\n",
    "assign_consensus_median_dic = pd.Series(df_agg_consensus_median.value.values, index = df_agg_consensus_median.permno).to_dict()\n",
    "df[\"consensus\"] = df[\"permno\"].apply(lambda x: assign_consensus_median_dic.get(x))\n",
    "\n",
    "# compute dispersion\n",
    "df_agg_consensus_std = df.groupby(['permno'])[['value']].std().reset_index()\n",
    "assign_consensus_std_dic = pd.Series(df_agg_consensus_std.value.values, index = df_agg_consensus_std.permno).to_dict()\n",
    "df[\"dispersion\"] = df[\"permno\"].apply(lambda x: assign_consensus_std_dic.get(x))\n",
    "\n",
    "# compute fe and fd\n",
    "df['fe'] = (df['actual']-df['consensus'])/df['actual']\n",
    "df['fe'] = df['fe'].abs()\n",
    "df['fd'] = df['dispersion']/(df['actual'].abs())"
   ]
  },
  {
   "cell_type": "markdown",
   "metadata": {
    "heading_collapsed": true,
    "hidden": true
   },
   "source": [
    "#### d) Generate a variable coverage equal to the number of analysts providing a forecast for a given earnings announcement."
   ]
  },
  {
   "cell_type": "code",
   "execution_count": 11,
   "metadata": {
    "hidden": true
   },
   "outputs": [],
   "source": [
    "# making unique_id consisting of permno and analys + check for duplicates\n",
    "df['unique_id'] = df['permno'].astype(str) + '_' + df['analys'].astype(str)\n",
    "df_unique = df.drop_duplicates(subset='unique_id', keep=\"last\")\n",
    "\n",
    "# group them and convert in dictionary for mapping\n",
    "df_agg = df_unique.groupby(['permno', 'date']).size().reset_index(name = 'counts')\n",
    "df_agg_count = df_agg.groupby(['permno']).sum().reset_index()\n",
    "assign_dic = pd.Series(df_agg_count.counts.values, index = df_agg_count.permno).to_dict()\n",
    "df[\"coverage\"] = df[\"permno\"].apply(lambda x: assign_dic.get(x))"
   ]
  },
  {
   "cell_type": "markdown",
   "metadata": {
    "heading_collapsed": true,
    "hidden": true
   },
   "source": [
    "#### e) Drop the following industries from the dataset: international affairs and non-op. establishments (SIC 9000-9999), foreign governments (SIC 8888), utilities (SIC 4000-4999) and agricolture, fishing and hunting (SIC 0000-0999). Create a dummy variable financials for financial firms (SIC 6000-6999)."
   ]
  },
  {
   "cell_type": "code",
   "execution_count": 12,
   "metadata": {
    "hidden": true
   },
   "outputs": [],
   "source": [
    "## drop all rows where siccd between 9000 and 9999\n",
    "## dropped: 20.267 rows\n",
    "op_labels = ['9000 and 9999']\n",
    "category = [9000, 10000]\n",
    "df['labels_1'] = pd.cut(df['siccd'], labels=op_labels, bins=category, include_lowest=False)\n",
    "df = df.loc[~df['labels_1'].isin(op_labels)]"
   ]
  },
  {
   "cell_type": "code",
   "execution_count": 13,
   "metadata": {
    "hidden": true
   },
   "outputs": [],
   "source": [
    "## drop all rows where siccd between 4000 and 4999\n",
    "## dropped: 14.557 rows\n",
    "op_labels = ['4000 and 4999']\n",
    "category = [4000, 5000]\n",
    "df['labels_2'] = pd.cut(df['siccd'], labels=op_labels, bins=category, include_lowest=False)\n",
    "df = df.loc[~df['labels_2'].isin(op_labels)]"
   ]
  },
  {
   "cell_type": "code",
   "execution_count": 14,
   "metadata": {
    "hidden": true
   },
   "outputs": [],
   "source": [
    "## drop all rows where siccd between 0 and 999\n",
    "## dropped: 228 rows\n",
    "labels_3 = []\n",
    "for i in df['siccd']:\n",
    "    between = range(0, 1000)\n",
    "    if i in between:\n",
    "        labels_3.append(1)\n",
    "    else:\n",
    "        labels_3.append(0)\n",
    "df['labels_3'] = labels_3\n",
    "df = df[df['labels_3'] == 0]"
   ]
  },
  {
   "cell_type": "code",
   "execution_count": 15,
   "metadata": {
    "hidden": true
   },
   "outputs": [],
   "source": [
    "## drop all rows where siccd == 8888\n",
    "## dropped: 0 rows\n",
    "labels_4 = []\n",
    "for i in df['siccd']:\n",
    "    between = range(8888, 8889)\n",
    "    if i in between:\n",
    "        labels_4.append(1)\n",
    "    else:\n",
    "        labels_4.append(0)\n",
    "df['labels_4'] = labels_4\n",
    "df = df[df['labels_4'] == 0]"
   ]
  },
  {
   "cell_type": "code",
   "execution_count": 16,
   "metadata": {
    "hidden": true
   },
   "outputs": [],
   "source": [
    "## make dummy_variable fiancials where financial firms == 1 and non-financial firms == 0\n",
    "dummy_list = []\n",
    "for i in df['siccd']:\n",
    "    between = range(6000, 7000)\n",
    "    if i in between:\n",
    "        dummy_list.append(1)\n",
    "    else:\n",
    "        dummy_list.append(0)\n",
    "df['financials'] = dummy_list"
   ]
  },
  {
   "cell_type": "code",
   "execution_count": 17,
   "metadata": {
    "hidden": true
   },
   "outputs": [],
   "source": [
    "df = df[['estimator', 'analys', 'value', 'anndats', 'actual', 'date', 'permno', \n",
    "         'siccd', 'prc', 'shrout', 'mktcap', 'consensus', 'dispersion', 'fe',\n",
    "         'fd', 'unique_id', 'coverage', 'financials']]"
   ]
  },
  {
   "cell_type": "code",
   "execution_count": 18,
   "metadata": {
    "hidden": true
   },
   "outputs": [
    {
     "data": {
      "text/plain": [
       "(121326, 18)"
      ]
     },
     "execution_count": 18,
     "metadata": {},
     "output_type": "execute_result"
    }
   ],
   "source": [
    "df.shape"
   ]
  },
  {
   "cell_type": "markdown",
   "metadata": {
    "heading_collapsed": true
   },
   "source": [
    "## 2. Summary Statistics and Plots (30%)"
   ]
  },
  {
   "cell_type": "markdown",
   "metadata": {
    "heading_collapsed": true,
    "hidden": true
   },
   "source": [
    "#### a) How many distinct earnings announcements events are in the data?"
   ]
  },
  {
   "cell_type": "code",
   "execution_count": 19,
   "metadata": {
    "hidden": true
   },
   "outputs": [
    {
     "name": "stdout",
     "output_type": "stream",
     "text": [
      "There are 2714 distinct earnings announcements in the dataset.\n"
     ]
    }
   ],
   "source": [
    "distinct_earnings = df.groupby(['permno', 'date']).size().reset_index()\n",
    "distinct_earnings_len = str(len(distinct_earnings['permno']))\n",
    "print ('There are ' + distinct_earnings_len + ' distinct earnings announcements in the dataset.')"
   ]
  },
  {
   "cell_type": "markdown",
   "metadata": {
    "heading_collapsed": true,
    "hidden": true
   },
   "source": [
    "#### b) Collapse the data at earnings announcement level and keep the mean of fe, fd, coverage, mktcap, financials."
   ]
  },
  {
   "cell_type": "code",
   "execution_count": 20,
   "metadata": {
    "hidden": true
   },
   "outputs": [
    {
     "data": {
      "text/html": [
       "<div>\n",
       "<style scoped>\n",
       "    .dataframe tbody tr th:only-of-type {\n",
       "        vertical-align: middle;\n",
       "    }\n",
       "\n",
       "    .dataframe tbody tr th {\n",
       "        vertical-align: top;\n",
       "    }\n",
       "\n",
       "    .dataframe thead th {\n",
       "        text-align: right;\n",
       "    }\n",
       "</style>\n",
       "<table border=\"1\" class=\"dataframe\">\n",
       "  <thead>\n",
       "    <tr style=\"text-align: right;\">\n",
       "      <th></th>\n",
       "      <th>permno</th>\n",
       "      <th>mktcap</th>\n",
       "      <th>fe</th>\n",
       "      <th>fd</th>\n",
       "      <th>coverage</th>\n",
       "      <th>financials</th>\n",
       "    </tr>\n",
       "  </thead>\n",
       "  <tbody>\n",
       "    <tr>\n",
       "      <th>0</th>\n",
       "      <td>10026.0</td>\n",
       "      <td>3.601009e+06</td>\n",
       "      <td>0.004000</td>\n",
       "      <td>0.023770</td>\n",
       "      <td>7</td>\n",
       "      <td>0</td>\n",
       "    </tr>\n",
       "    <tr>\n",
       "      <th>1</th>\n",
       "      <td>10032.0</td>\n",
       "      <td>1.909333e+06</td>\n",
       "      <td>0.040816</td>\n",
       "      <td>0.059723</td>\n",
       "      <td>7</td>\n",
       "      <td>0</td>\n",
       "    </tr>\n",
       "    <tr>\n",
       "      <th>2</th>\n",
       "      <td>10051.0</td>\n",
       "      <td>7.177990e+05</td>\n",
       "      <td>0.012821</td>\n",
       "      <td>0.065828</td>\n",
       "      <td>3</td>\n",
       "      <td>0</td>\n",
       "    </tr>\n",
       "    <tr>\n",
       "      <th>3</th>\n",
       "      <td>10104.0</td>\n",
       "      <td>1.800420e+08</td>\n",
       "      <td>0.035085</td>\n",
       "      <td>0.017733</td>\n",
       "      <td>37</td>\n",
       "      <td>0</td>\n",
       "    </tr>\n",
       "    <tr>\n",
       "      <th>4</th>\n",
       "      <td>10107.0</td>\n",
       "      <td>1.042658e+09</td>\n",
       "      <td>0.067368</td>\n",
       "      <td>0.027927</td>\n",
       "      <td>36</td>\n",
       "      <td>0</td>\n",
       "    </tr>\n",
       "    <tr>\n",
       "      <th>...</th>\n",
       "      <td>...</td>\n",
       "      <td>...</td>\n",
       "      <td>...</td>\n",
       "      <td>...</td>\n",
       "      <td>...</td>\n",
       "      <td>...</td>\n",
       "    </tr>\n",
       "    <tr>\n",
       "      <th>2709</th>\n",
       "      <td>93422.0</td>\n",
       "      <td>1.939154e+06</td>\n",
       "      <td>1.176471</td>\n",
       "      <td>0.971784</td>\n",
       "      <td>19</td>\n",
       "      <td>0</td>\n",
       "    </tr>\n",
       "    <tr>\n",
       "      <th>2710</th>\n",
       "      <td>93423.0</td>\n",
       "      <td>4.632071e+06</td>\n",
       "      <td>0.148607</td>\n",
       "      <td>0.052745</td>\n",
       "      <td>13</td>\n",
       "      <td>0</td>\n",
       "    </tr>\n",
       "    <tr>\n",
       "      <th>2711</th>\n",
       "      <td>93426.0</td>\n",
       "      <td>4.450518e+05</td>\n",
       "      <td>0.121951</td>\n",
       "      <td>0.134854</td>\n",
       "      <td>2</td>\n",
       "      <td>0</td>\n",
       "    </tr>\n",
       "    <tr>\n",
       "      <th>2712</th>\n",
       "      <td>93427.0</td>\n",
       "      <td>2.079591e+06</td>\n",
       "      <td>0.031496</td>\n",
       "      <td>0.044974</td>\n",
       "      <td>6</td>\n",
       "      <td>0</td>\n",
       "    </tr>\n",
       "    <tr>\n",
       "      <th>2713</th>\n",
       "      <td>93429.0</td>\n",
       "      <td>1.061992e+07</td>\n",
       "      <td>0.081673</td>\n",
       "      <td>0.028791</td>\n",
       "      <td>13</td>\n",
       "      <td>1</td>\n",
       "    </tr>\n",
       "  </tbody>\n",
       "</table>\n",
       "<p>2714 rows × 6 columns</p>\n",
       "</div>"
      ],
      "text/plain": [
       "       permno        mktcap        fe        fd  coverage  financials\n",
       "0     10026.0  3.601009e+06  0.004000  0.023770         7           0\n",
       "1     10032.0  1.909333e+06  0.040816  0.059723         7           0\n",
       "2     10051.0  7.177990e+05  0.012821  0.065828         3           0\n",
       "3     10104.0  1.800420e+08  0.035085  0.017733        37           0\n",
       "4     10107.0  1.042658e+09  0.067368  0.027927        36           0\n",
       "...       ...           ...       ...       ...       ...         ...\n",
       "2709  93422.0  1.939154e+06  1.176471  0.971784        19           0\n",
       "2710  93423.0  4.632071e+06  0.148607  0.052745        13           0\n",
       "2711  93426.0  4.450518e+05  0.121951  0.134854         2           0\n",
       "2712  93427.0  2.079591e+06  0.031496  0.044974         6           0\n",
       "2713  93429.0  1.061992e+07  0.081673  0.028791        13           1\n",
       "\n",
       "[2714 rows x 6 columns]"
      ]
     },
     "execution_count": 20,
     "metadata": {},
     "output_type": "execute_result"
    }
   ],
   "source": [
    "# compute mean-aggregation for mktcap, fe, fd and coverage\n",
    "df_agg_01 = df.groupby(['permno'], as_index=True).agg({'mktcap': 'mean', 'fe': 'mean', 'fd': 'mean', 'coverage': 'mean'})\n",
    "\n",
    "# compute mean-aggregation for financials\n",
    "df_agg_02 = df.groupby('permno').agg({'financials': 'mean'}).reset_index()\n",
    "\n",
    "# join df_agg_01 and df_agg_02 together\n",
    "df_join = pd.merge(df_agg_01, df_agg_02, on = 'permno', how = 'inner')\n",
    "df = df_join.copy()\n",
    "df"
   ]
  },
  {
   "cell_type": "markdown",
   "metadata": {
    "heading_collapsed": true,
    "hidden": true
   },
   "source": [
    "#### c) Produce a summary statistics table with the mean, standard deviation, min and max of all the variables in the dataset. Include also a correlation matrix between all the variables."
   ]
  },
  {
   "cell_type": "code",
   "execution_count": 21,
   "metadata": {
    "hidden": true
   },
   "outputs": [
    {
     "data": {
      "text/html": [
       "<div>\n",
       "<style scoped>\n",
       "    .dataframe tbody tr th:only-of-type {\n",
       "        vertical-align: middle;\n",
       "    }\n",
       "\n",
       "    .dataframe tbody tr th {\n",
       "        vertical-align: top;\n",
       "    }\n",
       "\n",
       "    .dataframe thead th {\n",
       "        text-align: right;\n",
       "    }\n",
       "</style>\n",
       "<table border=\"1\" class=\"dataframe\">\n",
       "  <thead>\n",
       "    <tr style=\"text-align: right;\">\n",
       "      <th></th>\n",
       "      <th>permno</th>\n",
       "      <th>mktcap</th>\n",
       "      <th>fe</th>\n",
       "      <th>fd</th>\n",
       "      <th>coverage</th>\n",
       "      <th>financials</th>\n",
       "    </tr>\n",
       "  </thead>\n",
       "  <tbody>\n",
       "    <tr>\n",
       "      <th>count</th>\n",
       "      <td>2714.000000</td>\n",
       "      <td>2.713000e+03</td>\n",
       "      <td>2714.000000</td>\n",
       "      <td>2673.000000</td>\n",
       "      <td>2714.000000</td>\n",
       "      <td>2714.000000</td>\n",
       "    </tr>\n",
       "    <tr>\n",
       "      <th>mean</th>\n",
       "      <td>58617.072218</td>\n",
       "      <td>9.916172e+06</td>\n",
       "      <td>0.194597</td>\n",
       "      <td>0.182542</td>\n",
       "      <td>10.075903</td>\n",
       "      <td>0.257553</td>\n",
       "    </tr>\n",
       "    <tr>\n",
       "      <th>std</th>\n",
       "      <td>32596.460766</td>\n",
       "      <td>4.296946e+07</td>\n",
       "      <td>0.311343</td>\n",
       "      <td>0.233502</td>\n",
       "      <td>8.834397</td>\n",
       "      <td>0.437367</td>\n",
       "    </tr>\n",
       "    <tr>\n",
       "      <th>min</th>\n",
       "      <td>10026.000000</td>\n",
       "      <td>-5.775145e+04</td>\n",
       "      <td>0.000000</td>\n",
       "      <td>0.000000</td>\n",
       "      <td>1.000000</td>\n",
       "      <td>0.000000</td>\n",
       "    </tr>\n",
       "    <tr>\n",
       "      <th>25%</th>\n",
       "      <td>16765.750000</td>\n",
       "      <td>4.042021e+05</td>\n",
       "      <td>0.027031</td>\n",
       "      <td>0.040797</td>\n",
       "      <td>4.000000</td>\n",
       "      <td>0.000000</td>\n",
       "    </tr>\n",
       "    <tr>\n",
       "      <th>50%</th>\n",
       "      <td>77386.000000</td>\n",
       "      <td>1.556870e+06</td>\n",
       "      <td>0.073751</td>\n",
       "      <td>0.097049</td>\n",
       "      <td>7.000000</td>\n",
       "      <td>0.000000</td>\n",
       "    </tr>\n",
       "    <tr>\n",
       "      <th>75%</th>\n",
       "      <td>87710.250000</td>\n",
       "      <td>5.488860e+06</td>\n",
       "      <td>0.222091</td>\n",
       "      <td>0.226816</td>\n",
       "      <td>14.000000</td>\n",
       "      <td>1.000000</td>\n",
       "    </tr>\n",
       "    <tr>\n",
       "      <th>max</th>\n",
       "      <td>93429.000000</td>\n",
       "      <td>1.080869e+09</td>\n",
       "      <td>2.875000</td>\n",
       "      <td>2.000000</td>\n",
       "      <td>57.000000</td>\n",
       "      <td>1.000000</td>\n",
       "    </tr>\n",
       "  </tbody>\n",
       "</table>\n",
       "</div>"
      ],
      "text/plain": [
       "             permno        mktcap           fe           fd     coverage  \\\n",
       "count   2714.000000  2.713000e+03  2714.000000  2673.000000  2714.000000   \n",
       "mean   58617.072218  9.916172e+06     0.194597     0.182542    10.075903   \n",
       "std    32596.460766  4.296946e+07     0.311343     0.233502     8.834397   \n",
       "min    10026.000000 -5.775145e+04     0.000000     0.000000     1.000000   \n",
       "25%    16765.750000  4.042021e+05     0.027031     0.040797     4.000000   \n",
       "50%    77386.000000  1.556870e+06     0.073751     0.097049     7.000000   \n",
       "75%    87710.250000  5.488860e+06     0.222091     0.226816    14.000000   \n",
       "max    93429.000000  1.080869e+09     2.875000     2.000000    57.000000   \n",
       "\n",
       "        financials  \n",
       "count  2714.000000  \n",
       "mean      0.257553  \n",
       "std       0.437367  \n",
       "min       0.000000  \n",
       "25%       0.000000  \n",
       "50%       0.000000  \n",
       "75%       1.000000  \n",
       "max       1.000000  "
      ]
     },
     "execution_count": 21,
     "metadata": {},
     "output_type": "execute_result"
    }
   ],
   "source": [
    "#print (df.describe().to_latex(float_format=lambda x: '%.2f' % x))\n",
    "df.describe()"
   ]
  },
  {
   "cell_type": "code",
   "execution_count": 23,
   "metadata": {
    "hidden": true
   },
   "outputs": [
    {
     "data": {
      "image/png": "[encoded data removed]",
      "text/plain": [
       "<Figure size 1224x864 with 2 Axes>"
      ]
     },
     "metadata": {},
     "output_type": "display_data"
    }
   ],
   "source": [
    "plt.subplots(figsize=(17,12))\n",
    "sns.heatmap(round(df.corr(),4), annot = True, cmap=\"YlGnBu\", linewidths=2, linecolor='black')\n",
    "plt.yticks(rotation=0) \n",
    "plt.show()"
   ]
  },
  {
   "cell_type": "markdown",
   "metadata": {
    "heading_collapsed": true,
    "hidden": true
   },
   "source": [
    "#### d) Do a scatter plot of fe against coverage, and of fd against coverage. Label the axes in a meaningful way. Briefly comment on the two charts."
   ]
  },
  {
   "cell_type": "code",
   "execution_count": 24,
   "metadata": {
    "hidden": true
   },
   "outputs": [
    {
     "data": {
      "image/png": "[encoded data removed]",
      "text/plain": [
       "<Figure size 936x360 with 2 Axes>"
      ]
     },
     "metadata": {},
     "output_type": "display_data"
    }
   ],
   "source": [
    "x1 = df['coverage']\n",
    "x2 = df['coverage']\n",
    "y1 = df['fe']\n",
    "y2 = df['fd']\n",
    "\n",
    "fig, axes = plt.subplots(nrows=1, ncols=2, figsize=(13, 5))\n",
    "axes[0].scatter(x1, y1)\n",
    "axes[0].set_title('Scatter plot: coverage vs. fe', fontsize=17)\n",
    "axes[0].set_xlabel('Coverage')\n",
    "axes[0].set_ylabel('Relative forecasting error (fe)')\n",
    "axes[1].scatter(x2, y2)\n",
    "axes[1].set_title('Scatter plot: coverage vs. fd', fontsize=17)\n",
    "axes[1].set_xlabel('Coverage')\n",
    "axes[1].set_ylabel('Relative forecasting dispersion (fd)')\n",
    "fig.tight_layout()"
   ]
  },
  {
   "cell_type": "markdown",
   "metadata": {
    "heading_collapsed": true
   },
   "source": [
    "## 3. OLS: estimation and interpretation of the results (30%)"
   ]
  },
  {
   "cell_type": "markdown",
   "metadata": {
    "heading_collapsed": true,
    "hidden": true
   },
   "source": [
    "#### Pairplot for checking linearity of the regressors"
   ]
  },
  {
   "cell_type": "code",
   "execution_count": 27,
   "metadata": {
    "hidden": true
   },
   "outputs": [
    {
     "data": {
      "application/javascript": [
       "\n",
       "        if (window._pyforest_update_imports_cell) { window._pyforest_update_imports_cell('import seaborn as sns\\nimport matplotlib.pyplot as plt\\nimport pandas as pd'); }\n",
       "    "
      ],
      "text/plain": [
       "<IPython.core.display.Javascript object>"
      ]
     },
     "metadata": {},
     "output_type": "display_data"
    },
    {
     "data": {
      "text/plain": [
       "<seaborn.axisgrid.PairGrid at 0x26bbe53da90>"
      ]
     },
     "execution_count": 27,
     "metadata": {},
     "output_type": "execute_result"
    },
    {
     "data": {
      "image/png": "[encoded data removed]",
      "text/plain": [
       "<Figure size 900x900 with 30 Axes>"
      ]
     },
     "metadata": {
      "needs_background": "light"
     },
     "output_type": "display_data"
    }
   ],
   "source": [
    "sns.pairplot(df.dropna(), vars = ['financials', 'fe', 'fd', 'coverage', 'mktcap'])"
   ]
  },
  {
   "cell_type": "markdown",
   "metadata": {
    "heading_collapsed": true,
    "hidden": true
   },
   "source": [
    "#### a) Run a regression of fe on financials and then of fe on financials and coverage. Interpret the coefficients and the R2 of both regressions."
   ]
  },
  {
   "cell_type": "code",
   "execution_count": 25,
   "metadata": {
    "hidden": true
   },
   "outputs": [
    {
     "name": "stdout",
     "output_type": "stream",
     "text": [
      "                            OLS Regression Results                            \n",
      "==============================================================================\n",
      "Dep. Variable:                     fe   R-squared:                       0.002\n",
      "Model:                            OLS   Adj. R-squared:                  0.001\n",
      "Method:                 Least Squares   F-statistic:                     4.546\n",
      "Date:                Sat, 26 Sep 2020   Prob (F-statistic):             0.0331\n",
      "Time:                        16:30:50   Log-Likelihood:                -681.37\n",
      "No. Observations:                2714   AIC:                             1367.\n",
      "Df Residuals:                    2712   BIC:                             1379.\n",
      "Df Model:                           1                                         \n",
      "Covariance Type:            nonrobust                                         \n",
      "======================================================================================\n",
      "                         coef    std err          t      P>|t|      [0.025      0.975]\n",
      "--------------------------------------------------------------------------------------\n",
      "Intercept              0.2021      0.007     29.157      0.000       0.189       0.216\n",
      "C(financials)[T.1]    -0.0291      0.014     -2.132      0.033      -0.056      -0.002\n",
      "==============================================================================\n",
      "Omnibus:                     1970.378   Durbin-Watson:                   1.950\n",
      "Prob(Omnibus):                  0.000   Jarque-Bera (JB):            30596.211\n",
      "Skew:                           3.366   Prob(JB):                         0.00\n",
      "Kurtosis:                      18.008   Cond. No.                         2.47\n",
      "==============================================================================\n",
      "\n",
      "Warnings:\n",
      "[1] Standard Errors assume that the covariance matrix of the errors is correctly specified.\n"
     ]
    }
   ],
   "source": [
    "# Regression_1:\n",
    "model = ols('fe ~ C(financials)', data=df, missing = 'drop').fit()\n",
    "print(model.summary())"
   ]
  },
  {
   "cell_type": "code",
   "execution_count": 26,
   "metadata": {
    "hidden": true
   },
   "outputs": [
    {
     "name": "stdout",
     "output_type": "stream",
     "text": [
      "                            OLS Regression Results                            \n",
      "==============================================================================\n",
      "Dep. Variable:                     fe   R-squared:                       0.040\n",
      "Model:                            OLS   Adj. R-squared:                  0.040\n",
      "Method:                 Least Squares   F-statistic:                     56.94\n",
      "Date:                Sat, 26 Sep 2020   Prob (F-statistic):           5.98e-25\n",
      "Time:                        16:30:58   Log-Likelihood:                -627.81\n",
      "No. Observations:                2714   AIC:                             1262.\n",
      "Df Residuals:                    2711   BIC:                             1279.\n",
      "Df Model:                           2                                         \n",
      "Covariance Type:            nonrobust                                         \n",
      "======================================================================================\n",
      "                         coef    std err          t      P>|t|      [0.025      0.975]\n",
      "--------------------------------------------------------------------------------------\n",
      "Intercept              0.2784      0.010     27.901      0.000       0.259       0.298\n",
      "C(financials)[T.1]    -0.0512      0.014     -3.773      0.000      -0.078      -0.025\n",
      "coverage              -0.0070      0.001    -10.448      0.000      -0.008      -0.006\n",
      "==============================================================================\n",
      "Omnibus:                     1973.013   Durbin-Watson:                   1.968\n",
      "Prob(Omnibus):                  0.000   Jarque-Bera (JB):            31472.374\n",
      "Skew:                           3.360   Prob(JB):                         0.00\n",
      "Kurtosis:                      18.269   Cond. No.                         33.7\n",
      "==============================================================================\n",
      "\n",
      "Warnings:\n",
      "[1] Standard Errors assume that the covariance matrix of the errors is correctly specified.\n"
     ]
    }
   ],
   "source": [
    "# Regression_2:\n",
    "model = ols('fe ~ C(financials) + coverage', data=df, missing = 'drop').fit()\n",
    "print(model.summary())"
   ]
  },
  {
   "cell_type": "markdown",
   "metadata": {
    "heading_collapsed": true,
    "hidden": true
   },
   "source": [
    "#### b) Re-run the above regression, where you additionally control for mktcap. How does the interpretation of the coefficient on coverage change?"
   ]
  },
  {
   "cell_type": "code",
   "execution_count": 27,
   "metadata": {
    "hidden": true
   },
   "outputs": [
    {
     "name": "stdout",
     "output_type": "stream",
     "text": [
      "                            OLS Regression Results                            \n",
      "==============================================================================\n",
      "Dep. Variable:                     fe   R-squared:                       0.040\n",
      "Model:                            OLS   Adj. R-squared:                  0.039\n",
      "Method:                 Least Squares   F-statistic:                     37.76\n",
      "Date:                Sat, 26 Sep 2020   Prob (F-statistic):           6.74e-24\n",
      "Time:                        16:31:12   Log-Likelihood:                -625.48\n",
      "No. Observations:                2713   AIC:                             1259.\n",
      "Df Residuals:                    2709   BIC:                             1283.\n",
      "Df Model:                           3                                         \n",
      "Covariance Type:            nonrobust                                         \n",
      "======================================================================================\n",
      "                         coef    std err          t      P>|t|      [0.025      0.975]\n",
      "--------------------------------------------------------------------------------------\n",
      "Intercept              0.2766      0.010     27.299      0.000       0.257       0.296\n",
      "C(financials)[T.1]    -0.0504      0.014     -3.713      0.000      -0.077      -0.024\n",
      "coverage              -0.0068      0.001     -9.186      0.000      -0.008      -0.005\n",
      "mktcap              -9.66e-11    1.5e-10     -0.644      0.520   -3.91e-10    1.98e-10\n",
      "==============================================================================\n",
      "Omnibus:                     1976.287   Durbin-Watson:                   1.973\n",
      "Prob(Omnibus):                  0.000   Jarque-Bera (JB):            31705.983\n",
      "Skew:                           3.368   Prob(JB):                         0.00\n",
      "Kurtosis:                      18.333   Cond. No.                     1.11e+08\n",
      "==============================================================================\n",
      "\n",
      "Warnings:\n",
      "[1] Standard Errors assume that the covariance matrix of the errors is correctly specified.\n",
      "[2] The condition number is large, 1.11e+08. This might indicate that there are\n",
      "strong multicollinearity or other numerical problems.\n"
     ]
    }
   ],
   "source": [
    "# Regression_3:\n",
    "model = ols('fe ~ C(financials) + coverage + mktcap', data=df, missing = 'drop').fit()\n",
    "print(model.summary())"
   ]
  },
  {
   "cell_type": "markdown",
   "metadata": {
    "heading_collapsed": true,
    "hidden": true
   },
   "source": [
    "#### c) Units of measurement:\n",
    "- i) Scale the variable mktcap such that it gives the company market capitalization in billions of dollars. Re-run the last regression. How does the coefficient change? And the t-statistic? Explain.\n",
    "- ii) Suppose that you are allowed to report only two decimals in your tables. Do you see a problem? What would you do?"
   ]
  },
  {
   "cell_type": "code",
   "execution_count": 28,
   "metadata": {
    "hidden": true
   },
   "outputs": [
    {
     "name": "stdout",
     "output_type": "stream",
     "text": [
      "                            OLS Regression Results                            \n",
      "==============================================================================\n",
      "Dep. Variable:                     fe   R-squared:                       0.040\n",
      "Model:                            OLS   Adj. R-squared:                  0.039\n",
      "Method:                 Least Squares   F-statistic:                     37.76\n",
      "Date:                Sat, 26 Sep 2020   Prob (F-statistic):           6.74e-24\n",
      "Time:                        16:31:47   Log-Likelihood:                -625.48\n",
      "No. Observations:                2713   AIC:                             1259.\n",
      "Df Residuals:                    2709   BIC:                             1283.\n",
      "Df Model:                           3                                         \n",
      "Covariance Type:            nonrobust                                         \n",
      "======================================================================================\n",
      "                         coef    std err          t      P>|t|      [0.025      0.975]\n",
      "--------------------------------------------------------------------------------------\n",
      "Intercept              0.2766      0.010     27.299      0.000       0.257       0.296\n",
      "C(financials)[T.1]    -0.0504      0.014     -3.713      0.000      -0.077      -0.024\n",
      "coverage              -0.0068      0.001     -9.186      0.000      -0.008      -0.005\n",
      "mktcap                -0.0966      0.150     -0.644      0.520      -0.391       0.198\n",
      "==============================================================================\n",
      "Omnibus:                     1976.287   Durbin-Watson:                   1.973\n",
      "Prob(Omnibus):                  0.000   Jarque-Bera (JB):            31705.983\n",
      "Skew:                           3.368   Prob(JB):                         0.00\n",
      "Kurtosis:                      18.333   Cond. No.                         344.\n",
      "==============================================================================\n",
      "\n",
      "Warnings:\n",
      "[1] Standard Errors assume that the covariance matrix of the errors is correctly specified.\n"
     ]
    }
   ],
   "source": [
    "df['mktcap'] = df['mktcap']/1000000000\n",
    "model = ols('fe ~ C(financials) + coverage + mktcap', data=df, missing = 'drop').fit()\n",
    "print(model.summary())"
   ]
  },
  {
   "cell_type": "markdown",
   "metadata": {
    "heading_collapsed": true,
    "hidden": true
   },
   "source": [
    "#### d) Under which assumptions can we interpret the coefficient on coverage as measuring the causal effect of analysts' coverage on forecast accuracy? What threats to the identification of the causal effect do you see in this case?"
   ]
  },
  {
   "cell_type": "code",
   "execution_count": null,
   "metadata": {
    "hidden": true
   },
   "outputs": [],
   "source": [
    "# Please refer to pdf"
   ]
  },
  {
   "cell_type": "markdown",
   "metadata": {
    "heading_collapsed": true
   },
   "source": [
    "## 4. OLS: assumptions and mechanics (15%)"
   ]
  },
  {
   "cell_type": "markdown",
   "metadata": {
    "heading_collapsed": true,
    "hidden": true
   },
   "source": [
    "#### a) After running the previous regression of of fe on financials, coverage and mktcap, compute FORMULA. What is the result of the summation? Explain."
   ]
  },
  {
   "cell_type": "code",
   "execution_count": 29,
   "metadata": {
    "hidden": true
   },
   "outputs": [],
   "source": [
    "predicted_values = model.predict()\n",
    "residual_values = model.resid\n",
    "mean_predicted_values = [predicted_values.mean()]*len(predicted_values)\n",
    "df_summation = pd.DataFrame(list(zip(predicted_values, residual_values, mean_predicted_values)))\n",
    "df_summation.columns = ['predicted_values', 'residuals', 'y_hat_mean']\n",
    "df_summation['result'] = df_summation['residuals']*(df_summation['predicted_values']-df_summation['y_hat_mean'])\n",
    "result_summation = sum(df_summation['result'])"
   ]
  },
  {
   "cell_type": "code",
   "execution_count": 30,
   "metadata": {
    "hidden": true
   },
   "outputs": [
    {
     "data": {
      "text/plain": [
       "0"
      ]
     },
     "execution_count": 30,
     "metadata": {},
     "output_type": "execute_result"
    }
   ],
   "source": [
    "round(result_summation)"
   ]
  },
  {
   "cell_type": "markdown",
   "metadata": {
    "heading_collapsed": true,
    "hidden": true
   },
   "source": [
    "#### b) [Theory question] ---> see pdf file"
   ]
  }
 ],
 "metadata": {
  "hide_input": false,
  "kernelspec": {
   "display_name": "Python 3",
   "language": "python",
   "name": "python3"
  },
  "language_info": {
   "codemirror_mode": {
    "name": "ipython",
    "version": 3
   },
   "file_extension": ".py",
   "mimetype": "text/x-python",
   "name": "python",
   "nbconvert_exporter": "python",
   "pygments_lexer": "ipython3",
   "version": "3.7.3"
  },
  "latex_envs": {
   "LaTeX_envs_menu_present": true,
   "autoclose": false,
   "autocomplete": true,
   "bibliofile": "biblio.bib",
   "cite_by": "apalike",
   "current_citInitial": 1,
   "eqLabelWithNumbers": true,
   "eqNumInitial": 1,
   "hotkeys": {
    "equation": "Ctrl-E",
    "itemize": "Ctrl-I"
   },
   "labels_anchors": false,
   "latex_user_defs": false,
   "report_style_numbering": false,
   "user_envs_cfg": false
  },
  "varInspector": {
   "cols": {
    "lenName": 16,
    "lenType": 16,
    "lenVar": 40
   },
   "kernels_config": {
    "python": {
     "delete_cmd_postfix": "",
     "delete_cmd_prefix": "del ",
     "library": "var_list.py",
     "varRefreshCmd": "print(var_dic_list())"
    },
    "r": {
     "delete_cmd_postfix": ") ",
     "delete_cmd_prefix": "rm(",
     "library": "var_list.r",
     "varRefreshCmd": "cat(var_dic_list()) "
    }
   },
   "types_to_exclude": [
    "module",
    "function",
    "builtin_function_or_method",
    "instance",
    "_Feature"
   ],
   "window_display": false
  }
 },
 "nbformat": 4,
 "nbformat_minor": 2
}
