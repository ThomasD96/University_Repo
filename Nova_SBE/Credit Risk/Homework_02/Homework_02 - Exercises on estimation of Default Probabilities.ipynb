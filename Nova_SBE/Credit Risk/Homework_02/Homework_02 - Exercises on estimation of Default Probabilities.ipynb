{
 "cells": [
  {
   "cell_type": "code",
   "execution_count": 2,
   "metadata": {},
   "outputs": [],
   "source": [
    "import pandas as pd\n",
    "import matplotlib.pyplot as plt\n",
    "import numpy as np\n",
    "import statsmodels.formula.api as smf\n",
    "import warnings\n",
    "warnings.filterwarnings(\"ignore\")"
   ]
  },
  {
   "cell_type": "code",
   "execution_count": 4,
   "metadata": {},
   "outputs": [],
   "source": [
    "df = pd.read_excel('logit_data.xlsx')\n",
    "df = df[['Firm id', 'Current Assets / Current Liabilities', 'EBIT / Assets ', 'Default(y)']].dropna()\n",
    "df.columns = ['Firm_ID', 'Assets_Liabilities', 'EBIT_Assets', 'Default']"
   ]
  },
  {
   "cell_type": "markdown",
   "metadata": {
    "heading_collapsed": true
   },
   "source": [
    "#### Exercise 01: Transition matrix"
   ]
  },
  {
   "cell_type": "markdown",
   "metadata": {
    "hidden": true
   },
   "source": [
    "see Excel"
   ]
  },
  {
   "cell_type": "markdown",
   "metadata": {
    "heading_collapsed": true
   },
   "source": [
    "#### Exercise 02: Loan Default Prediction"
   ]
  },
  {
   "cell_type": "code",
   "execution_count": 6,
   "metadata": {
    "hidden": true
   },
   "outputs": [
    {
     "name": "stdout",
     "output_type": "stream",
     "text": [
      "Optimization terminated successfully.\n",
      "         Current function value: 0.255956\n",
      "         Iterations 10\n"
     ]
    }
   ],
   "source": [
    "logit_model = smf.logit(formula = 'Default ~ Assets_Liabilities + EBIT_Assets', data = df).fit()"
   ]
  },
  {
   "cell_type": "code",
   "execution_count": 10,
   "metadata": {
    "hidden": true
   },
   "outputs": [
    {
     "name": "stdout",
     "output_type": "stream",
     "text": [
      "                           Logit Regression Results                           \n",
      "==============================================================================\n",
      "Dep. Variable:                Default   No. Observations:                   23\n",
      "Model:                          Logit   Df Residuals:                       20\n",
      "Method:                           MLE   Df Model:                            2\n",
      "Date:                Thu, 08 Apr 2021   Pseudo R-squ.:                  0.6038\n",
      "Time:                        10:21:10   Log-Likelihood:                -5.8870\n",
      "converged:                       True   LL-Null:                       -14.860\n",
      "Covariance Type:            nonrobust   LLR p-value:                 0.0001268\n",
      "======================================================================================\n",
      "                         coef    std err          z      P>|z|      [0.025      0.975]\n",
      "--------------------------------------------------------------------------------------\n",
      "Intercept             76.3611     42.820      1.783      0.075      -7.565     160.287\n",
      "Assets_Liabilities    -0.7461      0.426     -1.753      0.080      -1.581       0.088\n",
      "EBIT_Assets           -0.2576      0.149     -1.734      0.083      -0.549       0.034\n",
      "======================================================================================\n",
      "\n",
      "Possibly complete quasi-separation: A fraction 0.30 of observations can be\n",
      "perfectly predicted. This might indicate that there is complete\n",
      "quasi-separation. In this case some parameters will not be identified.\n"
     ]
    }
   ],
   "source": [
    "print (logit_model.summary())"
   ]
  },
  {
   "cell_type": "code",
   "execution_count": 12,
   "metadata": {
    "hidden": true
   },
   "outputs": [],
   "source": [
    "# define regression parameters\n",
    "intercept = logit_model.params[0]\n",
    "beta_1 = logit_model.params[1]\n",
    "beta_2 = logit_model.params[2]"
   ]
  },
  {
   "cell_type": "code",
   "execution_count": 13,
   "metadata": {
    "hidden": true
   },
   "outputs": [
    {
     "data": {
      "text/plain": [
       "-5.88699667406224"
      ]
     },
     "execution_count": 13,
     "metadata": {},
     "output_type": "execute_result"
    }
   ],
   "source": [
    "# check with Excel (Maximum-Liklihood Estimation)\n",
    "df['f'] = intercept + (beta_1*df['Assets_Liabilities']) + (beta_2*df['EBIT_Assets'])\n",
    "df['PD'] = (np.exp(df['f']))/(1+np.exp(df['f']))\n",
    "df['Log_Likelihood_function'] = (df['Default'] * np.log(df['PD'])) + ((1-df['Default'])) * np.log(1-df['PD'])\n",
    "print(df['Log_Likelihood_function'].sum())"
   ]
  },
  {
   "cell_type": "markdown",
   "metadata": {
    "heading_collapsed": true
   },
   "source": [
    "#### Exercise 03: Rating of new company"
   ]
  },
  {
   "cell_type": "code",
   "execution_count": 25,
   "metadata": {
    "hidden": true
   },
   "outputs": [
    {
     "name": "stdout",
     "output_type": "stream",
     "text": [
      "The probability of default for the new company is: 1.72 %\n"
     ]
    }
   ],
   "source": [
    "# compute the PD of the new company with the logit-model\n",
    "assets_liabilities = 105\n",
    "ebit_assets = 8\n",
    "logit_function =  intercept + (assets_liabilities * beta_1) + (ebit_assets * beta_2)\n",
    "pd = (np.exp(logit_function))/(1 + np.exp(logit_function))\n",
    "print ('The probability of default for the new company is:', round (pd,4)*100,\"%\")"
   ]
  },
  {
   "cell_type": "code",
   "execution_count": 27,
   "metadata": {
    "hidden": true
   },
   "outputs": [
    {
     "name": "stdout",
     "output_type": "stream",
     "text": [
      "The minimum spread the bank needs to charge is:  2.23 %\n"
     ]
    }
   ],
   "source": [
    "# compute the spread for the bank\n",
    "roe = 0.15\n",
    "k = 0.08\n",
    "lgd = 0.60\n",
    "spread = roe*k+pd*lgd\n",
    "print ('The minimum spread the bank needs to charge is: ', round(spread,4)*100,\"%\")"
   ]
  }
 ],
 "metadata": {
  "hide_input": false,
  "kernelspec": {
   "display_name": "Python 3",
   "language": "python",
   "name": "python3"
  },
  "language_info": {
   "codemirror_mode": {
    "name": "ipython",
    "version": 3
   },
   "file_extension": ".py",
   "mimetype": "text/x-python",
   "name": "python",
   "nbconvert_exporter": "python",
   "pygments_lexer": "ipython3",
   "version": "3.7.3"
  },
  "latex_envs": {
   "LaTeX_envs_menu_present": true,
   "autoclose": false,
   "autocomplete": true,
   "bibliofile": "biblio.bib",
   "cite_by": "apalike",
   "current_citInitial": 1,
   "eqLabelWithNumbers": true,
   "eqNumInitial": 1,
   "hotkeys": {
    "equation": "Ctrl-E",
    "itemize": "Ctrl-I"
   },
   "labels_anchors": false,
   "latex_user_defs": false,
   "report_style_numbering": false,
   "user_envs_cfg": false
  },
  "varInspector": {
   "cols": {
    "lenName": 16,
    "lenType": 16,
    "lenVar": 40
   },
   "kernels_config": {
    "python": {
     "delete_cmd_postfix": "",
     "delete_cmd_prefix": "del ",
     "library": "var_list.py",
     "varRefreshCmd": "print(var_dic_list())"
    },
    "r": {
     "delete_cmd_postfix": ") ",
     "delete_cmd_prefix": "rm(",
     "library": "var_list.r",
     "varRefreshCmd": "cat(var_dic_list()) "
    }
   },
   "types_to_exclude": [
    "module",
    "function",
    "builtin_function_or_method",
    "instance",
    "_Feature"
   ],
   "window_display": false
  }
 },
 "nbformat": 4,
 "nbformat_minor": 2
}
